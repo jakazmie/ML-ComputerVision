{
  "cells": [
    {
      "metadata": {},
      "cell_type": "markdown",
      "source": "# Deploy TensorFlow model to ACI\n\n\nIn the previous lab, we used `Hyperdrive` to tune FCNN top model. The model was registered in Model Registry.\n\nNow, we are ready to deploy the model.\n\nThe model can be deployed to a variety of target runtimes, including:\n- Azure Container Instance\n- Azure Kubernetes Service\n- IoT Edge\n- FPGA\n\n\nIn this lab, we will deploy the model as a web service in Azure Container Instance.\n\n![AML Arch](https://github.com/jakazmie/images-for-hands-on-labs/raw/master/amlarch.png)"
    },
    {
      "metadata": {},
      "cell_type": "markdown",
      "source": "## Connect to the workspace"
    },
    {
      "metadata": {
        "trusted": true
      },
      "cell_type": "code",
      "source": "# Check core SDK version number\nimport azureml.core\n\nprint(\"SDK version:\", azureml.core.VERSION)",
      "execution_count": 1,
      "outputs": [
        {
          "output_type": "stream",
          "text": "SDK version: 1.0.8\n",
          "name": "stdout"
        }
      ]
    },
    {
      "metadata": {
        "trusted": true
      },
      "cell_type": "code",
      "source": "from azureml.core import Workspace\n\nws = Workspace.from_config()",
      "execution_count": 2,
      "outputs": [
        {
          "output_type": "stream",
          "text": "Found the config file in: /home/nbuser/library/aml_config/config.json\n",
          "name": "stdout"
        }
      ]
    },
    {
      "metadata": {},
      "cell_type": "markdown",
      "source": "## Deploy as web service\n\nTo build the correct environment for ACI, provide the following:\n* A scoring script that invokes the model\n* An environment file to show what packages need to be installed\n* A configuration file to build the ACI\n* The model you trained before\n"
    },
    {
      "metadata": {},
      "cell_type": "markdown",
      "source": "### Create scoring script\n\nCreate the scoring script, called score.py, used by the web service call to invoke the model.\n\nYou must include two required functions in the scoring script:\n* The `init()` function, which loads the model into a global object. This function is run only once when the Docker container is started. \n\n* The `run(input_data)` function uses the model to predict a value based on the input data. Inputs and outputs to the run typically use JSON for serialization and de-serialization, but other formats can be used."
    },
    {
      "metadata": {
        "trusted": true
      },
      "cell_type": "code",
      "source": "%%writefile score.py\nimport json\nimport os\nimport numpy as np\nimport random\nimport tensorflow as tf\n\nfrom tensorflow.keras.applications import resnet50\nfrom tensorflow.keras.preprocessing import image\n\nfrom azureml.core.model import Model\nfrom azureml.core import Workspace\n\ndef init():\n    try:\n        \n        # Create ResNet50 featurizer\n        global featurizer\n        \n        featurizer = resnet50.ResNet50(\n            weights = 'imagenet', \n            input_shape=(224,224,3), \n            include_top = False,\n            pooling = 'avg')\n        \n        # Load top model\n        global model   \n\n        model_name = '<<modelid>>'\n        model_path = Model.get_model_path(model_name)\n        model = tf.keras.models.load_model(model_path)\n        \n    except Exception as e:\n        print('Exception during init: ', str(e))\n\n  \n\ndef run(raw_data):\n    try:\n        # convert json to numpy array\n        images = np.array(json.loads(raw_data)['data'])\n        # normalize as required by ResNet50\n        images = resnet50.preprocess_input(images)\n        # Extract bottleneck featurs\n        features = featurizer.predict(images)\n        # Make prediction\n        predictions = model.predict(features)\n        \n    except Exception as e:\n        result = str(e)\n        return json.dumps({\"error\": result})\n    \n    # Return both numeric and string predictions\n    # return json.dumps({\"predictions\": predictions.tolist(), \"labels\": string_predictions})\n    return json.dumps({\"predictions\": predictions.tolist()})",
      "execution_count": 3,
      "outputs": [
        {
          "output_type": "stream",
          "text": "Overwriting score.py\n",
          "name": "stdout"
        }
      ]
    },
    {
      "metadata": {},
      "cell_type": "markdown",
      "source": "Substitute the actual model ID in the script file."
    },
    {
      "metadata": {
        "trusted": true
      },
      "cell_type": "code",
      "source": "from azureml.core.model import Model\n\nmodel_name = 'aerial_classifier'\nmodel = Model(ws, name=model_name)\nscript_file_name = 'score.py'\n\nwith open(script_file_name, 'r') as cefr:\n    content = cefr.read()\n    \nwith open(script_file_name, 'w') as cefw:\n    cefw.write(content.replace('<<modelid>>', model.name))",
      "execution_count": 4,
      "outputs": []
    },
    {
      "metadata": {},
      "cell_type": "markdown",
      "source": "Review the updated script."
    },
    {
      "metadata": {
        "trusted": true
      },
      "cell_type": "code",
      "source": "with open(\"score.py\",\"r\") as f:\n    print(f.read())",
      "execution_count": 5,
      "outputs": [
        {
          "output_type": "stream",
          "text": "import json\nimport os\nimport numpy as np\nimport random\nimport tensorflow as tf\n\nfrom tensorflow.keras.applications import resnet50\nfrom tensorflow.keras.preprocessing import image\n\nfrom azureml.core.model import Model\nfrom azureml.core import Workspace\n\ndef init():\n    try:\n        \n        # Create ResNet50 featurizer\n        global featurizer\n        \n        featurizer = resnet50.ResNet50(\n            weights = 'imagenet', \n            input_shape=(224,224,3), \n            include_top = False,\n            pooling = 'avg')\n        \n        # Load top model\n        global model   \n\n        model_name = 'aerial_classifier'\n        model_path = Model.get_model_path(model_name)\n        model = tf.keras.models.load_model(model_path)\n        \n    except Exception as e:\n        print('Exception during init: ', str(e))\n\n  \n\ndef run(raw_data):\n    try:\n        # convert json to numpy array\n        images = np.array(json.loads(raw_data)['data'])\n        # normalize as required by ResNet50\n        images = resnet50.preprocess_input(images)\n        # Extract bottleneck featurs\n        features = featurizer.predict(images)\n        # Make prediction\n        predictions = model.predict(features)\n        \n    except Exception as e:\n        result = str(e)\n        return json.dumps({\"error\": result})\n    \n    # Return both numeric and string predictions\n    # return json.dumps({\"predictions\": predictions.tolist(), \"labels\": string_predictions})\n    return json.dumps({\"predictions\": predictions.tolist()})\n\n",
          "name": "stdout"
        }
      ]
    },
    {
      "metadata": {},
      "cell_type": "markdown",
      "source": "### Create a Conda dependencies environment file.\n\nNext, create an environment file that specifies the script's package dependencies. This file is used to ensure that all of those dependencies are installed in the Docker image. \n\n\n"
    },
    {
      "metadata": {
        "trusted": true
      },
      "cell_type": "code",
      "source": "from azureml.core.conda_dependencies import CondaDependencies \n\nmycondaenv = CondaDependencies()\nmycondaenv.add_pip_package(\"tensorflow\")\nmycondaenv.add_pip_package(\"h5py\")\nmycondaenv.add_pip_package(\"pillow\")\nmycondaenv.add_pip_package(\"scipy\")\n\nwith open(\"mydeployenv.yml\",\"w\") as f:\n    f.write(mycondaenv.serialize_to_string())",
      "execution_count": 6,
      "outputs": []
    },
    {
      "metadata": {},
      "cell_type": "markdown",
      "source": "Review the content of 'yml' file."
    },
    {
      "metadata": {
        "trusted": true
      },
      "cell_type": "code",
      "source": "with open(\"mydeployenv.yml\",\"r\") as f:\n    print(f.read())",
      "execution_count": 7,
      "outputs": [
        {
          "output_type": "stream",
          "text": "# Conda environment specification. The dependencies defined in this file will\n# be automatically provisioned for runs with userManagedDependencies=False.\n\n# Details about the Conda environment file format:\n# https://conda.io/docs/user-guide/tasks/manage-environments.html#create-env-file-manually\n\nname: project_environment\ndependencies:\n  # The python interpreter version.\n  # Currently Azure ML only supports 3.5.2 and later.\n- python=3.6.2\n\n- pip:\n    # Required packages for AzureML execution, history, and data preparation.\n  - azureml-defaults\n  - tensorflow\n  - h5py\n  - pillow\n  - scipy\n\n",
          "name": "stdout"
        }
      ]
    },
    {
      "metadata": {},
      "cell_type": "markdown",
      "source": "### Create docker image for deployment\n\nTo create a Container Image, you need four things: the model metadata (as retrieved from Model Registry), the scoring script file, the runtime configuration (defining whether Python or PySpark should be used) and the Conda Dependencies file."
    },
    {
      "metadata": {
        "trusted": true
      },
      "cell_type": "code",
      "source": "from azureml.core.image import ContainerImage, Image\n\n# configure the image\nimage_config = ContainerImage.image_configuration(execution_script=\"score.py\", \n                                                  runtime=\"python\", \n                                                  conda_file=\"mydeployenv.yml\",\n                                                  description=\"Image for aerial classifier\",\n                                                  tags={\"Classifier\": \"FCNN\"})\n\nimage = Image.create(name = \"aerial-classifier-image\",\n                     # this is the model object \n                     models = [model],\n                     image_config = image_config, \n                     workspace = ws)\n\nimage.wait_for_creation(show_output = True)",
      "execution_count": 8,
      "outputs": [
        {
          "output_type": "stream",
          "text": "Creating image\nRunning.................................\nSucceededImage creation operation finished for image aerial-classifier-image:1, operation \"Succeeded\"\n",
          "name": "stdout"
        }
      ]
    },
    {
      "metadata": {},
      "cell_type": "markdown",
      "source": "### Define ACI configuration\n\nCreate a deployment configuration file and specify the number of CPUs and gigabyte of RAM needed for your ACI container. The default is 1 core and 1 gigabyte of RAM. Since we are using ResNet50 featurizer we are CPU bound.  In this lab we will use the defaults but you should always go through the proper performance plannig exercise to find the right configuration."
    },
    {
      "metadata": {
        "trusted": true
      },
      "cell_type": "code",
      "source": "from azureml.core.webservice import AciWebservice\n\naciconfig = AciWebservice.deploy_configuration(cpu_cores=1, \n                                               memory_gb=1, \n                                               tags={\"data\": \"aerial\",  \"method\" : \"classifier\"}, \n                                               description='Predict aerial images')",
      "execution_count": 9,
      "outputs": []
    },
    {
      "metadata": {},
      "cell_type": "markdown",
      "source": "### Deploy in ACI\n\nDeploy the image as a web service in Azure Container Instance."
    },
    {
      "metadata": {
        "trusted": true
      },
      "cell_type": "code",
      "source": "from azureml.core.webservice import Webservice\n\naci_service_name = 'aerial-classifier-svc'\nprint(aci_service_name)\naci_service = Webservice.deploy_from_image(deployment_config = aciconfig,\n                                           image = image,\n                                           name = aci_service_name,\n                                           workspace = ws)\naci_service.wait_for_deployment(True)",
      "execution_count": 10,
      "outputs": [
        {
          "output_type": "stream",
          "text": "aerial-classifier-svc\nCreating service\nRunning...................\nSucceededACI service creation operation finished, operation \"Succeeded\"\n",
          "name": "stdout"
        }
      ]
    },
    {
      "metadata": {},
      "cell_type": "markdown",
      "source": "To troubleshoot any deployment issues you can retrieve deployment logs."
    },
    {
      "metadata": {
        "trusted": true
      },
      "cell_type": "code",
      "source": "print(aci_service.get_logs())",
      "execution_count": 11,
      "outputs": [
        {
          "output_type": "stream",
          "text": "2019-02-04T17:47:20,042734137+00:00 - iot-server/run \nwarning: gunicorn: unable to open supervise/ok: file does not exist\nok: run: nginx: (pid 10) 0s\nok: run: rsyslog: (pid 11) 0s\n2019-02-04T17:47:20,049472888+00:00 - gunicorn/run \nok: run: rsyslog: (pid 11) 0s\n2019-02-04T17:47:20,050763098+00:00 - rsyslog/run \n2019-02-04T17:47:20,050680497+00:00 - nginx/run \n2019-02-04T17:47:20,058477756+00:00 - iot-server/finish 3 0\n2019-02-04T17:47:20,062779189+00:00 - Exit code 3 is not normal. Restarting iot-server.\nok: run: rsyslog: (pid 11) 0s\n{\"timestamp\": \"2019-02-04T17:47:20.338201Z\", \"message\": \"Starting gunicorn 19.6.0\", \"host\": \"wk-caas-c77f5ec4becd415a88f32b3560849833-092f74c6a537272167d75e\", \"path\": \"/opt/miniconda/lib/python3.6/site-packages/gunicorn/glogging.py\", \"tags\": \"%(module)s, %(asctime)s, %(levelname)s, %(message)s\", \"level\": \"INFO\", \"logger\": \"gunicorn.error\", \"msg\": \"Starting gunicorn %s\", \"stack_info\": null}\n{\"timestamp\": \"2019-02-04T17:47:20.339114Z\", \"message\": \"Listening at: http://127.0.0.1:9090 (15)\", \"host\": \"wk-caas-c77f5ec4becd415a88f32b3560849833-092f74c6a537272167d75e\", \"path\": \"/opt/miniconda/lib/python3.6/site-packages/gunicorn/glogging.py\", \"tags\": \"%(module)s, %(asctime)s, %(levelname)s, %(message)s\", \"level\": \"INFO\", \"logger\": \"gunicorn.error\", \"msg\": \"Listening at: %s (%s)\", \"stack_info\": null}\n{\"timestamp\": \"2019-02-04T17:47:20.339221Z\", \"message\": \"Using worker: sync\", \"host\": \"wk-caas-c77f5ec4becd415a88f32b3560849833-092f74c6a537272167d75e\", \"path\": \"/opt/miniconda/lib/python3.6/site-packages/gunicorn/glogging.py\", \"tags\": \"%(module)s, %(asctime)s, %(levelname)s, %(message)s\", \"level\": \"INFO\", \"logger\": \"gunicorn.error\", \"msg\": \"Using worker: %s\", \"stack_info\": null}\n{\"timestamp\": \"2019-02-04T17:47:20.339814Z\", \"message\": \"worker timeout is set to 300\", \"host\": \"wk-caas-c77f5ec4becd415a88f32b3560849833-092f74c6a537272167d75e\", \"path\": \"/opt/miniconda/lib/python3.6/site-packages/gunicorn/glogging.py\", \"tags\": \"%(module)s, %(asctime)s, %(levelname)s, %(message)s\", \"level\": \"INFO\", \"logger\": \"gunicorn.error\", \"stack_info\": null}\n{\"timestamp\": \"2019-02-04T17:47:20.340699Z\", \"message\": \"Booting worker with pid: 31\", \"host\": \"wk-caas-c77f5ec4becd415a88f32b3560849833-092f74c6a537272167d75e\", \"path\": \"/opt/miniconda/lib/python3.6/site-packages/gunicorn/glogging.py\", \"tags\": \"%(module)s, %(asctime)s, %(levelname)s, %(message)s\", \"level\": \"INFO\", \"logger\": \"gunicorn.error\", \"msg\": \"Booting worker with pid: %s\", \"stack_info\": null}\n2019-02-04T17:47:21,087176170+00:00 - iot-server/run \nok: run: gunicorn: (pid 15) 1s\nok: run: nginx: (pid 10) 1s\nok: run: rsyslog: (pid 11) 1s\nEdgeHubConnectionString and IOTEDGE_IOTHUBHOSTNAME are not set. Exiting...\n2019-02-04T17:47:21,204893564+00:00 - iot-server/finish 1 0\n2019-02-04T17:47:21,205832171+00:00 - Exit code 1 is normal. Not restarting iot-server.\nInitializing logger\n{\"timestamp\": \"2019-02-04T17:47:25.688897Z\", \"message\": \"{\\\"requestId\\\": \\\"00000000-0000-0000-0000-000000000000\\\", \\\"message\\\": \\\"Starting up app insights client\\\", \\\"apiName\\\": \\\"\\\"}\", \"host\": \"wk-caas-c77f5ec4becd415a88f32b3560849833-092f74c6a537272167d75e\", \"path\": \"/var/azureml-app/aml_logger.py\", \"tags\": \"%(module)s, %(asctime)s, %(levelname)s, %(message)s\", \"level\": \"INFO\", \"logger\": \"root\", \"stack_info\": null}\n{\"timestamp\": \"2019-02-04T17:47:25.689171Z\", \"message\": \"{\\\"requestId\\\": \\\"00000000-0000-0000-0000-000000000000\\\", \\\"message\\\": \\\"Starting up request id generator\\\", \\\"apiName\\\": \\\"\\\"}\", \"host\": \"wk-caas-c77f5ec4becd415a88f32b3560849833-092f74c6a537272167d75e\", \"path\": \"/var/azureml-app/aml_logger.py\", \"tags\": \"%(module)s, %(asctime)s, %(levelname)s, %(message)s\", \"level\": \"INFO\", \"logger\": \"root\", \"stack_info\": null}\n{\"timestamp\": \"2019-02-04T17:47:25.689294Z\", \"message\": \"{\\\"requestId\\\": \\\"00000000-0000-0000-0000-000000000000\\\", \\\"message\\\": \\\"Starting up app insight hooks\\\", \\\"apiName\\\": \\\"\\\"}\", \"host\": \"wk-caas-c77f5ec4becd415a88f32b3560849833-092f74c6a537272167d75e\", \"path\": \"/var/azureml-app/aml_logger.py\", \"tags\": \"%(module)s, %(asctime)s, %(levelname)s, %(message)s\", \"level\": \"INFO\", \"logger\": \"root\", \"stack_info\": null}\n{\"timestamp\": \"2019-02-04T17:47:25.689404Z\", \"message\": \"{\\\"requestId\\\": \\\"00000000-0000-0000-0000-000000000000\\\", \\\"message\\\": \\\"Invoking user's init function\\\", \\\"apiName\\\": \\\"\\\"}\", \"host\": \"wk-caas-c77f5ec4becd415a88f32b3560849833-092f74c6a537272167d75e\", \"path\": \"/var/azureml-app/aml_logger.py\", \"tags\": \"%(module)s, %(asctime)s, %(levelname)s, %(message)s\", \"level\": \"INFO\", \"logger\": \"root\", \"stack_info\": null}\nDownloading data from\n{\"logger\": \"logger_stdout\", \"request_id\": \"no request id\", \"message\": \"Downloading data from\", \"timestamp\": \"2019-02-04T17:47:29.805106\"}\nhttps://github.com/fchollet/deep-learning-models/releases/download/v0.2/resnet50_weights_tf_dim_ordering_tf_kernels_notop.h5\n{\"logger\": \"logger_stdout\", \"request_id\": \"no request id\", \"message\": \"https://github.com/fchollet/deep-learning-models/releases/download/v0.2/resnet50_weights_tf_dim_ordering_tf_kernels_notop.h5\", \"timestamp\": \"2019-02-04T17:47:29.805207\"}\n    8192/94653016 [..............................]\n{\"logger\": \"logger_stdout\", \"request_id\": \"no request id\", \"message\": \"    8192/94653016 [..............................]\", \"timestamp\": \"2019-02-04T17:47:30.621725\"}\n - ETA: 0s\n{\"logger\": \"logger_stdout\", \"request_id\": \"no request id\", \"message\": \" - ETA: 0s\", \"timestamp\": \"2019-02-04T17:47:30.621836\"}\n\b\b\b\b\b\b\b\b\b\b\b\b\b\b\b\b\b\b\b\b\b\b\b\b\b\b\b\b\b\b\b\b\b\b\b\b\b\b\b\b\b\b\b\b\b\b\b\b\b\b\b\b\b\b\b\b\b\b\b\b\n{\"logger\": \"logger_stdout\", \"request_id\": \"no request id\", \"message\": \"\\b\\b\\b\\b\\b\\b\\b\\b\\b\\b\\b\\b\\b\\b\\b\\b\\b\\b\\b\\b\\b\\b\\b\\b\\b\\b\\b\\b\\b\\b\\b\\b\\b\\b\\b\\b\\b\\b\\b\\b\\b\\b\\b\\b\\b\\b\\b\\b\\b\\b\\b\\b\\b\\b\\b\\b\\b\\b\\b\\b\", \"timestamp\": \"2019-02-04T17:47:30.689698\"}\n   24576/94653016 [..............................]\n{\"logger\": \"logger_stdout\", \"request_id\": \"no request id\", \"message\": \"   24576/94653016 [..............................]\", \"timestamp\": \"2019-02-04T17:47:30.689821\"}\n - ETA: 4:22\n{\"logger\": \"logger_stdout\", \"request_id\": \"no request id\", \"message\": \" - ETA: 4:22\", \"timestamp\": \"2019-02-04T17:47:30.689864\"}\n\b\b\b\b\b\b\b\b\b\b\b\b\b\b\b\b\b\b\b\b\b\b\b\b\b\b\b\b\b\b\b\b\b\b\b\b\b\b\b\b\b\b\b\b\b\b\b\b\b\b\b\b\b\b\b\b\b\b\b\b\b\b\n{\"logger\": \"logger_stdout\", \"request_id\": \"no request id\", \"message\": \"\\b\\b\\b\\b\\b\\b\\b\\b\\b\\b\\b\\b\\b\\b\\b\\b\\b\\b\\b\\b\\b\\b\\b\\b\\b\\b\\b\\b\\b\\b\\b\\b\\b\\b\\b\\b\\b\\b\\b\\b\\b\\b\\b\\b\\b\\b\\b\\b\\b\\b\\b\\b\\b\\b\\b\\b\\b\\b\\b\\b\\b\\b\", \"timestamp\": \"2019-02-04T17:47:30.757659\"}\n   57344/94653016 [..............................]\n{\"logger\": \"logger_stdout\", \"request_id\": \"no request id\", \"message\": \"   57344/94653016 [..............................]\", \"timestamp\": \"2019-02-04T17:47:30.757744\"}\n - ETA: 3:44\n{\"logger\": \"logger_stdout\", \"request_id\": \"no request id\", \"message\": \" - ETA: 3:44\", \"timestamp\": \"2019-02-04T17:47:30.757802\"}\n\b\b\b\b\b\b\b\b\b\b\b\b\b\b\b\b\b\b\b\b\b\b\b\b\b\b\b\b\b\b\b\b\b\b\b\b\b\b\b\b\b\b\b\b\b\b\b\b\b\b\b\b\b\b\b\b\b\b\b\b\b\b\n{\"logger\": \"logger_stdout\", \"request_id\": \"no request id\", \"message\": \"\\b\\b\\b\\b\\b\\b\\b\\b\\b\\b\\b\\b\\b\\b\\b\\b\\b\\b\\b\\b\\b\\b\\b\\b\\b\\b\\b\\b\\b\\b\\b\\b\\b\\b\\b\\b\\b\\b\\b\\b\\b\\b\\b\\b\\b\\b\\b\\b\\b\\b\\b\\b\\b\\b\\b\\b\\b\\b\\b\\b\\b\\b\", \"timestamp\": \"2019-02-04T17:47:30.825868\"}\n  122880/94653016 [..............................]\n{\"logger\": \"logger_stdout\", \"request_id\": \"no request id\", \"message\": \"  122880/94653016 [..............................]\", \"timestamp\": \"2019-02-04T17:47:30.825999\"}\n - ETA: 2:37\n{\"logger\": \"logger_stdout\", \"request_id\": \"no request id\", \"message\": \" - ETA: 2:37\", \"timestamp\": \"2019-02-04T17:47:30.826050\"}\n\b\b\b\b\b\b\b\b\b\b\b\b\b\b\b\b\b\b\b\b\b\b\b\b\b\b\b\b\b\b\b\b\b\b\b\b\b\b\b\b\b\b\b\b\b\b\b\b\b\b\b\b\b\b\b\b\b\b\b\b\b\b\n{\"logger\": \"logger_stdout\", \"request_id\": \"no request id\", \"message\": \"\\b\\b\\b\\b\\b\\b\\b\\b\\b\\b\\b\\b\\b\\b\\b\\b\\b\\b\\b\\b\\b\\b\\b\\b\\b\\b\\b\\b\\b\\b\\b\\b\\b\\b\\b\\b\\b\\b\\b\\b\\b\\b\\b\\b\\b\\b\\b\\b\\b\\b\\b\\b\\b\\b\\b\\b\\b\\b\\b\\b\\b\\b\", \"timestamp\": \"2019-02-04T17:47:30.894173\"}\n  278528/94653016 [..............................]\n{\"logger\": \"logger_stdout\", \"request_id\": \"no request id\", \"message\": \"  278528/94653016 [..............................]\", \"timestamp\": \"2019-02-04T17:47:30.894268\"}\n - ETA: 1:32\n{\"logger\": \"logger_stdout\", \"request_id\": \"no request id\", \"message\": \" - ETA: 1:32\", \"timestamp\": \"2019-02-04T17:47:30.894353\"}\n\b\b\b\b\b\b\b\b\b\b\b\b\b\b\b\b\b\b\b\b\b\b\b\b\b\b\b\b\b\b\b\b\b\b\b\b\b\b\b\b\b\b\b\b\b\b\b\b\b\b\b\b\b\b\b\b\b\b\b\b\b\b\n{\"logger\": \"logger_stdout\", \"request_id\": \"no request id\", \"message\": \"\\b\\b\\b\\b\\b\\b\\b\\b\\b\\b\\b\\b\\b\\b\\b\\b\\b\\b\\b\\b\\b\\b\\b\\b\\b\\b\\b\\b\\b\\b\\b\\b\\b\\b\\b\\b\\b\\b\\b\\b\\b\\b\\b\\b\\b\\b\\b\\b\\b\\b\\b\\b\\b\\b\\b\\b\\b\\b\\b\\b\\b\\b\", \"timestamp\": \"2019-02-04T17:47:30.962144\"}\n  598016/94653016 [..............................]\n{\"logger\": \"logger_stdout\", \"request_id\": \"no request id\", \"message\": \"  598016/94653016 [..............................]\", \"timestamp\": \"2019-02-04T17:47:30.962248\"}\n - ETA: 53s\n{\"logger\": \"logger_stdout\", \"request_id\": \"no request id\", \"message\": \" - ETA: 53s \", \"timestamp\": \"2019-02-04T17:47:30.962328\"}\n\b\b\b\b\b\b\b\b\b\b\b\b\b\b\b\b\b\b\b\b\b\b\b\b\b\b\b\b\b\b\b\b\b\b\b\b\b\b\b\b\b\b\b\b\b\b\b\b\b\b\b\b\b\b\b\b\b\b\b\b\b\n{\"logger\": \"logger_stdout\", \"request_id\": \"no request id\", \"message\": \"\\b\\b\\b\\b\\b\\b\\b\\b\\b\\b\\b\\b\\b\\b\\b\\b\\b\\b\\b\\b\\b\\b\\b\\b\\b\\b\\b\\b\\b\\b\\b\\b\\b\\b\\b\\b\\b\\b\\b\\b\\b\\b\\b\\b\\b\\b\\b\\b\\b\\b\\b\\b\\b\\b\\b\\b\\b\\b\\b\\b\\b\", \"timestamp\": \"2019-02-04T17:47:31.030449\"}\n 1236992/94653016 [..............................]\n{\"logger\": \"logger_stdout\", \"request_id\": \"no request id\", \"message\": \" 1236992/94653016 [..............................]\", \"timestamp\": \"2019-02-04T17:47:31.030550\"}\n - ETA: 30s\n{\"logger\": \"logger_stdout\", \"request_id\": \"no request id\", \"message\": \" - ETA: 30s\", \"timestamp\": \"2019-02-04T17:47:31.030610\"}\n\b\b\b\b\b\b\b\b\b\b\b\b\b\b\b\b\b\b\b\b\b\b\b\b\b\b\b\b\b\b\b\b\b\b\b\b\b\b\b\b\b\b\b\b\b\b\b\b\b\b\b\b\b\b\b\b\b\b\b\b\b\n{\"logger\": \"logger_stdout\", \"request_id\": \"no request id\", \"message\": \"\\b\\b\\b\\b\\b\\b\\b\\b\\b\\b\\b\\b\\b\\b\\b\\b\\b\\b\\b\\b\\b\\b\\b\\b\\b\\b\\b\\b\\b\\b\\b\\b\\b\\b\\b\\b\\b\\b\\b\\b\\b\\b\\b\\b\\b\\b\\b\\b\\b\\b\\b\\b\\b\\b\\b\\b\\b\\b\\b\\b\\b\", \"timestamp\": \"2019-02-04T17:47:31.099319\"}\n 2482176/94653016 [..............................]\n{\"logger\": \"logger_stdout\", \"request_id\": \"no request id\", \"message\": \" 2482176/94653016 [..............................]\", \"timestamp\": \"2019-02-04T17:47:31.099445\"}\n - ETA: 17s\n{\"logger\": \"logger_stdout\", \"request_id\": \"no request id\", \"message\": \" - ETA: 17s\", \"timestamp\": \"2019-02-04T17:47:31.099531\"}\n\b\b\b\b\b\b\b\b\b\b\b\b\b\b\b\b\b\b\b\b\b\b\b\b\b\b\b\b\b\b\b\b\b\b\b\b\b\b\b\b\b\b\b\b\b\b\b\b\b\b\b\b\b\b\b\b\b\b\b\b\b\n{\"logger\": \"logger_stdout\", \"request_id\": \"no request id\", \"message\": \"\\b\\b\\b\\b\\b\\b\\b\\b\\b\\b\\b\\b\\b\\b\\b\\b\\b\\b\\b\\b\\b\\b\\b\\b\\b\\b\\b\\b\\b\\b\\b\\b\\b\\b\\b\\b\\b\\b\\b\\b\\b\\b\\b\\b\\b\\b\\b\\b\\b\\b\\b\\b\\b\\b\\b\\b\\b\\b\\b\\b\\b\", \"timestamp\": \"2019-02-04T17:47:31.167821\"}\n 4923392/94653016 [>.............................]\n{\"logger\": \"logger_stdout\", \"request_id\": \"no request id\", \"message\": \" 4923392/94653016 [>.............................]\", \"timestamp\": \"2019-02-04T17:47:31.167948\"}\n - ETA: 9s\n{\"logger\": \"logger_stdout\", \"request_id\": \"no request id\", \"message\": \" - ETA: 9s \", \"timestamp\": \"2019-02-04T17:47:31.168086\"}\n\b\b\b\b\b\b\b\b\b\b\b\b\b\b\b\b\b\b\b\b\b\b\b\b\b\b\b\b\b\b\b\b\b\b\b\b\b\b\b\b\b\b\b\b\b\b\b\b\b\b\b\b\b\b\b\b\b\b\b\b\n{\"logger\": \"logger_stdout\", \"request_id\": \"no request id\", \"message\": \"\\b\\b\\b\\b\\b\\b\\b\\b\\b\\b\\b\\b\\b\\b\\b\\b\\b\\b\\b\\b\\b\\b\\b\\b\\b\\b\\b\\b\\b\\b\\b\\b\\b\\b\\b\\b\\b\\b\\b\\b\\b\\b\\b\\b\\b\\b\\b\\b\\b\\b\\b\\b\\b\\b\\b\\b\\b\\b\\b\\b\", \"timestamp\": \"2019-02-04T17:47:31.235718\"}\n 8052736/94653016 [=>............................]\n{\"logger\": \"logger_stdout\", \"request_id\": \"no request id\", \"message\": \" 8052736/94653016 [=>............................]\", \"timestamp\": \"2019-02-04T17:47:31.235849\"}\n - ETA: 6s\n{\"logger\": \"logger_stdout\", \"request_id\": \"no request id\", \"message\": \" - ETA: 6s\", \"timestamp\": \"2019-02-04T17:47:31.236034\"}\n\b\b\b\b\b\b\b\b\b\b\b\b\b\b\b\b\b\b\b\b\b\b\b\b\b\b\b\b\b\b\b\b\b\b\b\b\b\b\b\b\b\b\b\b\b\b\b\b\b\b\b\b\b\b\b\b\b\b\b\b\n{\"logger\": \"logger_stdout\", \"request_id\": \"no request id\", \"message\": \"\\b\\b\\b\\b\\b\\b\\b\\b\\b\\b\\b\\b\\b\\b\\b\\b\\b\\b\\b\\b\\b\\b\\b\\b\\b\\b\\b\\b\\b\\b\\b\\b\\b\\b\\b\\b\\b\\b\\b\\b\\b\\b\\b\\b\\b\\b\\b\\b\\b\\b\\b\\b\\b\\b\\b\\b\\b\\b\\b\\b\", \"timestamp\": \"2019-02-04T17:47:31.303936\"}\n11132928/94653016 [==>...........................]\n{\"logger\": \"logger_stdout\", \"request_id\": \"no request id\", \"message\": \"11132928/94653016 [==>...........................]\", \"timestamp\": \"2019-02-04T17:47:31.304218\"}\n - ETA: 5s\n{\"logger\": \"logger_stdout\", \"request_id\": \"no request id\", \"message\": \" - ETA: 5s\", \"timestamp\": \"2019-02-04T17:47:31.304418\"}\n\b\b\b\b\b\b\b\b\b\b\b\b\b\b\b\b\b\b\b\b\b\b\b\b\b\b\b\b\b\b\b\b\b\b\b\b\b\b\b\b\b\b\b\b\b\b\b\b\b\b\b\b\b\b\b\b\b\b\b\b\n{\"logger\": \"logger_stdout\", \"request_id\": \"no request id\", \"message\": \"\\b\\b\\b\\b\\b\\b\\b\\b\\b\\b\\b\\b\\b\\b\\b\\b\\b\\b\\b\\b\\b\\b\\b\\b\\b\\b\\b\\b\\b\\b\\b\\b\\b\\b\\b\\b\\b\\b\\b\\b\\b\\b\\b\\b\\b\\b\\b\\b\\b\\b\\b\\b\\b\\b\\b\\b\\b\\b\\b\\b\", \"timestamp\": \"2019-02-04T17:47:31.371839\"}\n14180352/94653016 [===>..........................]\n{\"logger\": \"logger_stdout\", \"request_id\": \"no request id\", \"message\": \"14180352/94653016 [===>..........................]\", \"timestamp\": \"2019-02-04T17:47:31.371996\"}\n - ETA: 4s\n{\"logger\": \"logger_stdout\", \"request_id\": \"no request id\", \"message\": \" - ETA: 4s\", \"timestamp\": \"2019-02-04T17:47:31.372088\"}\n\b\b\b\b\b\b\b\b\b\b\b\b\b\b\b\b\b\b\b\b\b\b\b\b\b\b\b\b\b\b\b\b\b\b\b\b\b\b\b\b\b\b\b\b\b\b\b\b\b\b\b\b\b\b\b\b\b\b\b\b\n{\"logger\": \"logger_stdout\", \"request_id\": \"no request id\", \"message\": \"\\b\\b\\b\\b\\b\\b\\b\\b\\b\\b\\b\\b\\b\\b\\b\\b\\b\\b\\b\\b\\b\\b\\b\\b\\b\\b\\b\\b\\b\\b\\b\\b\\b\\b\\b\\b\\b\\b\\b\\b\\b\\b\\b\\b\\b\\b\\b\\b\\b\\b\\b\\b\\b\\b\\b\\b\\b\\b\\b\\b\", \"timestamp\": \"2019-02-04T17:47:31.440193\"}\n17244160/94653016 [====>.........................]\n{\"logger\": \"logger_stdout\", \"request_id\": \"no request id\", \"message\": \"17244160/94653016 [====>.........................]\", \"timestamp\": \"2019-02-04T17:47:31.440306\"}\n - ETA: 3s\n{\"logger\": \"logger_stdout\", \"request_id\": \"no request id\", \"message\": \" - ETA: 3s\", \"timestamp\": \"2019-02-04T17:47:31.440377\"}\n\b\b\b\b\b\b\b\b\b\b\b\b\b\b\b\b\b\b\b\b\b\b\b\b\b\b\b\b\b\b\b\b\b\b\b\b\b\b\b\b\b\b\b\b\b\b\b\b\b\b\b\b\b\b\b\b\b\b\b\b\n{\"logger\": \"logger_stdout\", \"request_id\": \"no request id\", \"message\": \"\\b\\b\\b\\b\\b\\b\\b\\b\\b\\b\\b\\b\\b\\b\\b\\b\\b\\b\\b\\b\\b\\b\\b\\b\\b\\b\\b\\b\\b\\b\\b\\b\\b\\b\\b\\b\\b\\b\\b\\b\\b\\b\\b\\b\\b\\b\\b\\b\\b\\b\\b\\b\\b\\b\\b\\b\\b\\b\\b\\b\", \"timestamp\": \"2019-02-04T17:47:31.508319\"}\n20324352/94653016 [=====>........................]\n{\"logger\": \"logger_stdout\", \"request_id\": \"no request id\", \"message\": \"20324352/94653016 [=====>........................]\", \"timestamp\": \"2019-02-04T17:47:31.508468\"}\n - ETA: 3s\n{\"logger\": \"logger_stdout\", \"request_id\": \"no request id\", \"message\": \" - ETA: 3s\", \"timestamp\": \"2019-02-04T17:47:31.508536\"}\n\b\b\b\b\b\b\b\b\b\b\b\b\b\b\b\b\b\b\b\b\b\b\b\b\b\b\b\b\b\b\b\b\b\b\b\b\b\b\b\b\b\b\b\b\b\b\b\b\b\b\b\b\b\b\b\b\b\b\b\b\n{\"logger\": \"logger_stdout\", \"request_id\": \"no request id\", \"message\": \"\\b\\b\\b\\b\\b\\b\\b\\b\\b\\b\\b\\b\\b\\b\\b\\b\\b\\b\\b\\b\\b\\b\\b\\b\\b\\b\\b\\b\\b\\b\\b\\b\\b\\b\\b\\b\\b\\b\\b\\b\\b\\b\\b\\b\\b\\b\\b\\b\\b\\b\\b\\b\\b\\b\\b\\b\\b\\b\\b\\b\", \"timestamp\": \"2019-02-04T17:47:31.576348\"}\n23404544/94653016 [======>.......................]\n{\"logger\": \"logger_stdout\", \"request_id\": \"no request id\", \"message\": \"23404544/94653016 [======>.......................]\", \"timestamp\": \"2019-02-04T17:47:31.576464\"}\n - ETA: 2s\n{\"logger\": \"logger_stdout\", \"request_id\": \"no request id\", \"message\": \" - ETA: 2s\", \"timestamp\": \"2019-02-04T17:47:31.576500\"}\n\b\b\b\b\b\b\b\b\b\b\b\b\b\b\b\b\b\b\b\b\b\b\b\b\b\b\b\b\b\b\b\b\b\b\b\b\b\b\b\b\b\b\b\b\b\b\b\b\b\b\b\b\b\b\b\b\b\b\b\b\n{\"logger\": \"logger_stdout\", \"request_id\": \"no request id\", \"message\": \"\\b\\b\\b\\b\\b\\b\\b\\b\\b\\b\\b\\b\\b\\b\\b\\b\\b\\b\\b\\b\\b\\b\\b\\b\\b\\b\\b\\b\\b\\b\\b\\b\\b\\b\\b\\b\\b\\b\\b\\b\\b\\b\\b\\b\\b\\b\\b\\b\\b\\b\\b\\b\\b\\b\\b\\b\\b\\b\\b\\b\", \"timestamp\": \"2019-02-04T17:47:31.644714\"}\n26484736/94653016 [=======>......................]\n{\"logger\": \"logger_stdout\", \"request_id\": \"no request id\", \"message\": \"26484736/94653016 [=======>......................]\", \"timestamp\": \"2019-02-04T17:47:31.644868\"}\n - ETA: 2s\n{\"logger\": \"logger_stdout\", \"request_id\": \"no request id\", \"message\": \" - ETA: 2s\", \"timestamp\": \"2019-02-04T17:47:31.644926\"}\n\b\b\b\b\b\b\b\b\b\b\b\b\b\b\b\b\b\b\b\b\b\b\b\b\b\b\b\b\b\b\b\b\b\b\b\b\b\b\b\b\b\b\b\b\b\b\b\b\b\b\b\b\b\b\b\b\b\b\b\b\n{\"logger\": \"logger_stdout\", \"request_id\": \"no request id\", \"message\": \"\\b\\b\\b\\b\\b\\b\\b\\b\\b\\b\\b\\b\\b\\b\\b\\b\\b\\b\\b\\b\\b\\b\\b\\b\\b\\b\\b\\b\\b\\b\\b\\b\\b\\b\\b\\b\\b\\b\\b\\b\\b\\b\\b\\b\\b\\b\\b\\b\\b\\b\\b\\b\\b\\b\\b\\b\\b\\b\\b\\b\", \"timestamp\": \"2019-02-04T17:47:31.712685\"}\n29499392/94653016 [========>.....................]\n{\"logger\": \"logger_stdout\", \"request_id\": \"no request id\", \"message\": \"29499392/94653016 [========>.....................]\", \"timestamp\": \"2019-02-04T17:47:31.712800\"}\n - ETA: 2s\n{\"logger\": \"logger_stdout\", \"request_id\": \"no request id\", \"message\": \" - ETA: 2s\", \"timestamp\": \"2019-02-04T17:47:31.712832\"}\n\b\b\b\b\b\b\b\b\b\b\b\b\b\b\b\b\b\b\b\b\b\b\b\b\b\b\b\b\b\b\b\b\b\b\b\b\b\b\b\b\b\b\b\b\b\b\b\b\b\b\b\b\b\b\b\b\b\b\b\b\n{\"logger\": \"logger_stdout\", \"request_id\": \"no request id\", \"message\": \"\\b\\b\\b\\b\\b\\b\\b\\b\\b\\b\\b\\b\\b\\b\\b\\b\\b\\b\\b\\b\\b\\b\\b\\b\\b\\b\\b\\b\\b\\b\\b\\b\\b\\b\\b\\b\\b\\b\\b\\b\\b\\b\\b\\b\\b\\b\\b\\b\\b\\b\\b\\b\\b\\b\\b\\b\\b\\b\\b\\b\", \"timestamp\": \"2019-02-04T17:47:31.781057\"}\n32563200/94653016 [=========>....................]\n{\"logger\": \"logger_stdout\", \"request_id\": \"no request id\", \"message\": \"32563200/94653016 [=========>....................]\", \"timestamp\": \"2019-02-04T17:47:31.781149\"}\n - ETA: 2s\n{\"logger\": \"logger_stdout\", \"request_id\": \"no request id\", \"message\": \" - ETA: 2s\", \"timestamp\": \"2019-02-04T17:47:31.781220\"}\n\b\b\b\b\b\b\b\b\b\b\b\b\b\b\b\b\b\b\b\b\b\b\b\b\b\b\b\b\b\b\b\b\b\b\b\b\b\b\b\b\b\b\b\b\b\b\b\b\b\b\b\b\b\b\b\b\b\b\b\b\n{\"logger\": \"logger_stdout\", \"request_id\": \"no request id\", \"message\": \"\\b\\b\\b\\b\\b\\b\\b\\b\\b\\b\\b\\b\\b\\b\\b\\b\\b\\b\\b\\b\\b\\b\\b\\b\\b\\b\\b\\b\\b\\b\\b\\b\\b\\b\\b\\b\\b\\b\\b\\b\\b\\b\\b\\b\\b\\b\\b\\b\\b\\b\\b\\b\\b\\b\\b\\b\\b\\b\\b\\b\", \"timestamp\": \"2019-02-04T17:47:31.849183\"}\n35676160/94653016 [==========>...................]\n{\"logger\": \"logger_stdout\", \"request_id\": \"no request id\", \"message\": \"35676160/94653016 [==========>...................]\", \"timestamp\": \"2019-02-04T17:47:31.849302\"}\n - ETA: 2s\n{\"logger\": \"logger_stdout\", \"request_id\": \"no request id\", \"message\": \" - ETA: 2s\", \"timestamp\": \"2019-02-04T17:47:31.849350\"}\n\b\b\b\b\b\b\b\b\b\b\b\b\b\b\b\b\b\b\b\b\b\b\b\b\b\b\b\b\b\b\b\b\b\b\b\b\b\b\b\b\b\b\b\b\b\b\b\b\b\b\b\b\b\b\b\b\b\b\b\b\n{\"logger\": \"logger_stdout\", \"request_id\": \"no request id\", \"message\": \"\\b\\b\\b\\b\\b\\b\\b\\b\\b\\b\\b\\b\\b\\b\\b\\b\\b\\b\\b\\b\\b\\b\\b\\b\\b\\b\\b\\b\\b\\b\\b\\b\\b\\b\\b\\b\\b\\b\\b\\b\\b\\b\\b\\b\\b\\b\\b\\b\\b\\b\\b\\b\\b\\b\\b\\b\\b\\b\\b\\b\", \"timestamp\": \"2019-02-04T17:47:31.917360\"}\n38772736/94653016 [===========>..................]\n{\"logger\": \"logger_stdout\", \"request_id\": \"no request id\", \"message\": \"38772736/94653016 [===========>..................]\", \"timestamp\": \"2019-02-04T17:47:31.917510\"}\n - ETA: 1s\n{\"logger\": \"logger_stdout\", \"request_id\": \"no request id\", \"message\": \" - ETA: 1s\", \"timestamp\": \"2019-02-04T17:47:31.917549\"}\n\b\b\b\b\b\b\b\b\b\b\b\b\b\b\b\b\b\b\b\b\b\b\b\b\b\b\b\b\b\b\b\b\b\b\b\b\b\b\b\b\b\b\b\b\b\b\b\b\b\b\b\b\b\b\b\b\b\b\b\b\n{\"logger\": \"logger_stdout\", \"request_id\": \"no request id\", \"message\": \"\\b\\b\\b\\b\\b\\b\\b\\b\\b\\b\\b\\b\\b\\b\\b\\b\\b\\b\\b\\b\\b\\b\\b\\b\\b\\b\\b\\b\\b\\b\\b\\b\\b\\b\\b\\b\\b\\b\\b\\b\\b\\b\\b\\b\\b\\b\\b\\b\\b\\b\\b\\b\\b\\b\\b\\b\\b\\b\\b\\b\", \"timestamp\": \"2019-02-04T17:47:31.985619\"}\n41852928/94653016 [============>.................]\n{\"logger\": \"logger_stdout\", \"request_id\": \"no request id\", \"message\": \"41852928/94653016 [============>.................]\", \"timestamp\": \"2019-02-04T17:47:31.985775\"}\n - ETA: 1s\n{\"logger\": \"logger_stdout\", \"request_id\": \"no request id\", \"message\": \" - ETA: 1s\", \"timestamp\": \"2019-02-04T17:47:31.985807\"}\n\b\b\b\b\b\b\b\b\b\b\b\b\b\b\b\b\b\b\b\b\b\b\b\b\b\b\b\b\b\b\b\b\b\b\b\b\b\b\b\b\b\b\b\b\b\b\b\b\b\b\b\b\b\b\b\b\b\b\b\b\n{\"logger\": \"logger_stdout\", \"request_id\": \"no request id\", \"message\": \"\\b\\b\\b\\b\\b\\b\\b\\b\\b\\b\\b\\b\\b\\b\\b\\b\\b\\b\\b\\b\\b\\b\\b\\b\\b\\b\\b\\b\\b\\b\\b\\b\\b\\b\\b\\b\\b\\b\\b\\b\\b\\b\\b\\b\\b\\b\\b\\b\\b\\b\\b\\b\\b\\b\\b\\b\\b\\b\\b\\b\", \"timestamp\": \"2019-02-04T17:47:32.054795\"}\n44916736/94653016 [=============>................]\n{\"logger\": \"logger_stdout\", \"request_id\": \"no request id\", \"message\": \"44916736/94653016 [=============>................]\", \"timestamp\": \"2019-02-04T17:47:32.054891\"}\n - ETA: 1s\n{\"logger\": \"logger_stdout\", \"request_id\": \"no request id\", \"message\": \" - ETA: 1s\", \"timestamp\": \"2019-02-04T17:47:32.054935\"}\n\b\b\b\b\b\b\b\b\b\b\b\b\b\b\b\b\b\b\b\b\b\b\b\b\b\b\b\b\b\b\b\b\b\b\b\b\b\b\b\b\b\b\b\b\b\b\b\b\b\b\b\b\b\b\b\b\b\b\b\b\n{\"logger\": \"logger_stdout\", \"request_id\": \"no request id\", \"message\": \"\\b\\b\\b\\b\\b\\b\\b\\b\\b\\b\\b\\b\\b\\b\\b\\b\\b\\b\\b\\b\\b\\b\\b\\b\\b\\b\\b\\b\\b\\b\\b\\b\\b\\b\\b\\b\\b\\b\\b\\b\\b\\b\\b\\b\\b\\b\\b\\b\\b\\b\\b\\b\\b\\b\\b\\b\\b\\b\\b\\b\", \"timestamp\": \"2019-02-04T17:47:32.122797\"}\n47898624/94653016 [==============>...............]\n{\"logger\": \"logger_stdout\", \"request_id\": \"no request id\", \"message\": \"47898624/94653016 [==============>...............]\", \"timestamp\": \"2019-02-04T17:47:32.122913\"}\n - ETA: 1s\n{\"logger\": \"logger_stdout\", \"request_id\": \"no request id\", \"message\": \" - ETA: 1s\", \"timestamp\": \"2019-02-04T17:47:32.122952\"}\n\b\b\b\b\b\b\b\b\b\b\b\b\b\b\b\b\b\b\b\b\b\b\b\b\b\b\b\b\b\b\b\b\b\b\b\b\b\b\b\b\b\b\b\b\b\b\b\b\b\b\b\b\b\b\b\b\b\b\b\b\n{\"logger\": \"logger_stdout\", \"request_id\": \"no request id\", \"message\": \"\\b\\b\\b\\b\\b\\b\\b\\b\\b\\b\\b\\b\\b\\b\\b\\b\\b\\b\\b\\b\\b\\b\\b\\b\\b\\b\\b\\b\\b\\b\\b\\b\\b\\b\\b\\b\\b\\b\\b\\b\\b\\b\\b\\b\\b\\b\\b\\b\\b\\b\\b\\b\\b\\b\\b\\b\\b\\b\\b\\b\", \"timestamp\": \"2019-02-04T17:47:32.190888\"}\n50831360/94653016 [===============>..............]\n{\"logger\": \"logger_stdout\", \"request_id\": \"no request id\", \"message\": \"50831360/94653016 [===============>..............]\", \"timestamp\": \"2019-02-04T17:47:32.191004\"}\n - ETA: 1s\n{\"logger\": \"logger_stdout\", \"request_id\": \"no request id\", \"message\": \" - ETA: 1s\", \"timestamp\": \"2019-02-04T17:47:32.191037\"}\n\b\b\b\b\b\b\b\b\b\b\b\b\b\b\b\b\b\b\b\b\b\b\b\b\b\b\b\b\b\b\b\b\b\b\b\b\b\b\b\b\b\b\b\b\b\b\b\b\b\b\b\b\b\b\b\b\b\b\b\b\n{\"logger\": \"logger_stdout\", \"request_id\": \"no request id\", \"message\": \"\\b\\b\\b\\b\\b\\b\\b\\b\\b\\b\\b\\b\\b\\b\\b\\b\\b\\b\\b\\b\\b\\b\\b\\b\\b\\b\\b\\b\\b\\b\\b\\b\\b\\b\\b\\b\\b\\b\\b\\b\\b\\b\\b\\b\\b\\b\\b\\b\\b\\b\\b\\b\\b\\b\\b\\b\\b\\b\\b\\b\", \"timestamp\": \"2019-02-04T17:47:32.258942\"}\n53927936/94653016 [================>.............]\n{\"logger\": \"logger_stdout\", \"request_id\": \"no request id\", \"message\": \"53927936/94653016 [================>.............]\", \"timestamp\": \"2019-02-04T17:47:32.259049\"}\n - ETA: 1s\n{\"logger\": \"logger_stdout\", \"request_id\": \"no request id\", \"message\": \" - ETA: 1s\", \"timestamp\": \"2019-02-04T17:47:32.259088\"}\n\b\b\b\b\b\b\b\b\b\b\b\b\b\b\b\b\b\b\b\b\b\b\b\b\b\b\b\b\b\b\b\b\b\b\b\b\b\b\b\b\b\b\b\b\b\b\b\b\b\b\b\b\b\b\b\b\b\b\b\b\n{\"logger\": \"logger_stdout\", \"request_id\": \"no request id\", \"message\": \"\\b\\b\\b\\b\\b\\b\\b\\b\\b\\b\\b\\b\\b\\b\\b\\b\\b\\b\\b\\b\\b\\b\\b\\b\\b\\b\\b\\b\\b\\b\\b\\b\\b\\b\\b\\b\\b\\b\\b\\b\\b\\b\\b\\b\\b\\b\\b\\b\\b\\b\\b\\b\\b\\b\\b\\b\\b\\b\\b\\b\", \"timestamp\": \"2019-02-04T17:47:32.327715\"}\n56958976/94653016 [=================>............]\n{\"logger\": \"logger_stdout\", \"request_id\": \"no request id\", \"message\": \"56958976/94653016 [=================>............]\", \"timestamp\": \"2019-02-04T17:47:32.327839\"}\n - ETA: 1s\n{\"logger\": \"logger_stdout\", \"request_id\": \"no request id\", \"message\": \" - ETA: 1s\", \"timestamp\": \"2019-02-04T17:47:32.327874\"}\n\b\b\b\b\b\b\b\b\b\b\b\b\b\b\b\b\b\b\b\b\b\b\b\b\b\b\b\b\b\b\b\b\b\b\b\b\b\b\b\b\b\b\b\b\b\b\b\b\b\b\b\b\b\b\b\b\b\b\b\b\n{\"logger\": \"logger_stdout\", \"request_id\": \"no request id\", \"message\": \"\\b\\b\\b\\b\\b\\b\\b\\b\\b\\b\\b\\b\\b\\b\\b\\b\\b\\b\\b\\b\\b\\b\\b\\b\\b\\b\\b\\b\\b\\b\\b\\b\\b\\b\\b\\b\\b\\b\\b\\b\\b\\b\\b\\b\\b\\b\\b\\b\\b\\b\\b\\b\\b\\b\\b\\b\\b\\b\\b\\b\", \"timestamp\": \"2019-02-04T17:47:32.395943\"}\n59842560/94653016 [=================>............]\n{\"logger\": \"logger_stdout\", \"request_id\": \"no request id\", \"message\": \"59842560/94653016 [=================>............]\", \"timestamp\": \"2019-02-04T17:47:32.396062\"}\n - ETA: 1s\n{\"logger\": \"logger_stdout\", \"request_id\": \"no request id\", \"message\": \" - ETA: 1s\", \"timestamp\": \"2019-02-04T17:47:32.396101\"}\n\b\b\b\b\b\b\b\b\b\b\b\b\b\b\b\b\b\b\b\b\b\b\b\b\b\b\b\b\b\b\b\b\b\b\b\b\b\b\b\b\b\b\b\b\b\b\b\b\b\b\b\b\b\b\b\b\b\b\b\b\n{\"logger\": \"logger_stdout\", \"request_id\": \"no request id\", \"message\": \"\\b\\b\\b\\b\\b\\b\\b\\b\\b\\b\\b\\b\\b\\b\\b\\b\\b\\b\\b\\b\\b\\b\\b\\b\\b\\b\\b\\b\\b\\b\\b\\b\\b\\b\\b\\b\\b\\b\\b\\b\\b\\b\\b\\b\\b\\b\\b\\b\\b\\b\\b\\b\\b\\b\\b\\b\\b\\b\\b\\b\", \"timestamp\": \"2019-02-04T17:47:32.464615\"}\n62857216/94653016 [==================>...........]\n{\"logger\": \"logger_stdout\", \"request_id\": \"no request id\", \"message\": \"62857216/94653016 [==================>...........]\", \"timestamp\": \"2019-02-04T17:47:32.464796\"}\n - ETA: 0s\n{\"logger\": \"logger_stdout\", \"request_id\": \"no request id\", \"message\": \" - ETA: 0s\", \"timestamp\": \"2019-02-04T17:47:32.464842\"}\n\b\b\b\b\b\b\b\b\b\b\b\b\b\b\b\b\b\b\b\b\b\b\b\b\b\b\b\b\b\b\b\b\b\b\b\b\b\b\b\b\b\b\b\b\b\b\b\b\b\b\b\b\b\b\b\b\b\b\b\b\n{\"logger\": \"logger_stdout\", \"request_id\": \"no request id\", \"message\": \"\\b\\b\\b\\b\\b\\b\\b\\b\\b\\b\\b\\b\\b\\b\\b\\b\\b\\b\\b\\b\\b\\b\\b\\b\\b\\b\\b\\b\\b\\b\\b\\b\\b\\b\\b\\b\\b\\b\\b\\b\\b\\b\\b\\b\\b\\b\\b\\b\\b\\b\\b\\b\\b\\b\\b\\b\\b\\b\\b\\b\", \"timestamp\": \"2019-02-04T17:47:32.532752\"}\n65855488/94653016 [===================>..........]\n{\"logger\": \"logger_stdout\", \"request_id\": \"no request id\", \"message\": \"65855488/94653016 [===================>..........]\", \"timestamp\": \"2019-02-04T17:47:32.532927\"}\n - ETA: 0s\n{\"logger\": \"logger_stdout\", \"request_id\": \"no request id\", \"message\": \" - ETA: 0s\", \"timestamp\": \"2019-02-04T17:47:32.532981\"}\n\b\b\b\b\b\b\b\b\b\b\b\b\b\b\b\b\b\b\b\b\b\b\b\b\b\b\b\b\b\b\b\b\b\b\b\b\b\b\b\b\b\b\b\b\b\b\b\b\b\b\b\b\b\b\b\b\b\b\b\b\n{\"logger\": \"logger_stdout\", \"request_id\": \"no request id\", \"message\": \"\\b\\b\\b\\b\\b\\b\\b\\b\\b\\b\\b\\b\\b\\b\\b\\b\\b\\b\\b\\b\\b\\b\\b\\b\\b\\b\\b\\b\\b\\b\\b\\b\\b\\b\\b\\b\\b\\b\\b\\b\\b\\b\\b\\b\\b\\b\\b\\b\\b\\b\\b\\b\\b\\b\\b\\b\\b\\b\\b\\b\", \"timestamp\": \"2019-02-04T17:47:32.600637\"}\n68853760/94653016 [====================>.........]\n{\"logger\": \"logger_stdout\", \"request_id\": \"no request id\", \"message\": \"68853760/94653016 [====================>.........]\", \"timestamp\": \"2019-02-04T17:47:32.600728\"}\n - ETA: 0s\n{\"logger\": \"logger_stdout\", \"request_id\": \"no request id\", \"message\": \" - ETA: 0s\", \"timestamp\": \"2019-02-04T17:47:32.600905\"}\n\b\b\b\b\b\b\b\b\b\b\b\b\b\b\b\b\b\b\b\b\b\b\b\b\b\b\b\b\b\b\b\b\b\b\b\b\b\b\b\b\b\b\b\b\b\b\b\b\b\b\b\b\b\b\b\b\b\b\b\b\n{\"logger\": \"logger_stdout\", \"request_id\": \"no request id\", \"message\": \"\\b\\b\\b\\b\\b\\b\\b\\b\\b\\b\\b\\b\\b\\b\\b\\b\\b\\b\\b\\b\\b\\b\\b\\b\\b\\b\\b\\b\\b\\b\\b\\b\\b\\b\\b\\b\\b\\b\\b\\b\\b\\b\\b\\b\\b\\b\\b\\b\\b\\b\\b\\b\\b\\b\\b\\b\\b\\b\\b\\b\", \"timestamp\": \"2019-02-04T17:47:32.668894\"}\n71868416/94653016 [=====================>........]\n{\"logger\": \"logger_stdout\", \"request_id\": \"no request id\", \"message\": \"71868416/94653016 [=====================>........]\", \"timestamp\": \"2019-02-04T17:47:32.669054\"}\n - ETA: 0s\n{\"logger\": \"logger_stdout\", \"request_id\": \"no request id\", \"message\": \" - ETA: 0s\", \"timestamp\": \"2019-02-04T17:47:32.669178\"}\n\b\b\b\b\b\b\b\b\b\b\b\b\b\b\b\b\b\b\b\b\b\b\b\b\b\b\b\b\b\b\b\b\b\b\b\b\b\b\b\b\b\b\b\b\b\b\b\b\b\b\b\b\b\b\b\b\b\b\b\b\n{\"logger\": \"logger_stdout\", \"request_id\": \"no request id\", \"message\": \"\\b\\b\\b\\b\\b\\b\\b\\b\\b\\b\\b\\b\\b\\b\\b\\b\\b\\b\\b\\b\\b\\b\\b\\b\\b\\b\\b\\b\\b\\b\\b\\b\\b\\b\\b\\b\\b\\b\\b\\b\\b\\b\\b\\b\\b\\b\\b\\b\\b\\b\\b\\b\\b\\b\\b\\b\\b\\b\\b\\b\", \"timestamp\": \"2019-02-04T17:47:32.737264\"}\n74866688/94653016 [======================>.......]\n{\"logger\": \"logger_stdout\", \"request_id\": \"no request id\", \"message\": \"74866688/94653016 [======================>.......]\", \"timestamp\": \"2019-02-04T17:47:32.737385\"}\n - ETA: 0s\n{\"logger\": \"logger_stdout\", \"request_id\": \"no request id\", \"message\": \" - ETA: 0s\", \"timestamp\": \"2019-02-04T17:47:32.737501\"}\n\b\b\b\b\b\b\b\b\b\b\b\b\b\b\b\b\b\b\b\b\b\b\b\b\b\b\b\b\b\b\b\b\b\b\b\b\b\b\b\b\b\b\b\b\b\b\b\b\b\b\b\b\b\b\b\b\b\b\b\b\n{\"logger\": \"logger_stdout\", \"request_id\": \"no request id\", \"message\": \"\\b\\b\\b\\b\\b\\b\\b\\b\\b\\b\\b\\b\\b\\b\\b\\b\\b\\b\\b\\b\\b\\b\\b\\b\\b\\b\\b\\b\\b\\b\\b\\b\\b\\b\\b\\b\\b\\b\\b\\b\\b\\b\\b\\b\\b\\b\\b\\b\\b\\b\\b\\b\\b\\b\\b\\b\\b\\b\\b\\b\", \"timestamp\": \"2019-02-04T17:47:32.805111\"}\n77914112/94653016 [=======================>......]\n{\"logger\": \"logger_stdout\", \"request_id\": \"no request id\", \"message\": \"77914112/94653016 [=======================>......]\", \"timestamp\": \"2019-02-04T17:47:32.805216\"}\n - ETA: 0s\n{\"logger\": \"logger_stdout\", \"request_id\": \"no request id\", \"message\": \" - ETA: 0s\", \"timestamp\": \"2019-02-04T17:47:32.805253\"}\n\b\b\b\b\b\b\b\b\b\b\b\b\b\b\b\b\b\b\b\b\b\b\b\b\b\b\b\b\b\b\b\b\b\b\b\b\b\b\b\b\b\b\b\b\b\b\b\b\b\b\b\b\b\b\b\b\b\b\b\b\n{\"logger\": \"logger_stdout\", \"request_id\": \"no request id\", \"message\": \"\\b\\b\\b\\b\\b\\b\\b\\b\\b\\b\\b\\b\\b\\b\\b\\b\\b\\b\\b\\b\\b\\b\\b\\b\\b\\b\\b\\b\\b\\b\\b\\b\\b\\b\\b\\b\\b\\b\\b\\b\\b\\b\\b\\b\\b\\b\\b\\b\\b\\b\\b\\b\\b\\b\\b\\b\\b\\b\\b\\b\", \"timestamp\": \"2019-02-04T17:47:32.873416\"}\n80961536/94653016 [========================>.....]\n{\"logger\": \"logger_stdout\", \"request_id\": \"no request id\", \"message\": \"80961536/94653016 [========================>.....]\", \"timestamp\": \"2019-02-04T17:47:32.873535\"}\n - ETA: 0s\n{\"logger\": \"logger_stdout\", \"request_id\": \"no request id\", \"message\": \" - ETA: 0s\", \"timestamp\": \"2019-02-04T17:47:32.873668\"}\n\b\b\b\b\b\b\b\b\b\b\b\b\b\b\b\b\b\b\b\b\b\b\b\b\b\b\b\b\b\b\b\b\b\b\b\b\b\b\b\b\b\b\b\b\b\b\b\b\b\b\b\b\b\b\b\b\b\b\b\b\n{\"logger\": \"logger_stdout\", \"request_id\": \"no request id\", \"message\": \"\\b\\b\\b\\b\\b\\b\\b\\b\\b\\b\\b\\b\\b\\b\\b\\b\\b\\b\\b\\b\\b\\b\\b\\b\\b\\b\\b\\b\\b\\b\\b\\b\\b\\b\\b\\b\\b\\b\\b\\b\\b\\b\\b\\b\\b\\b\\b\\b\\b\\b\\b\\b\\b\\b\\b\\b\\b\\b\\b\\b\", \"timestamp\": \"2019-02-04T17:47:32.941776\"}\n83959808/94653016 [=========================>....]\n{\"logger\": \"logger_stdout\", \"request_id\": \"no request id\", \"message\": \"83959808/94653016 [=========================>....]\", \"timestamp\": \"2019-02-04T17:47:32.941974\"}\n - ETA: 0s\n{\"logger\": \"logger_stdout\", \"request_id\": \"no request id\", \"message\": \" - ETA: 0s\", \"timestamp\": \"2019-02-04T17:47:32.942010\"}\n\b\b\b\b\b\b\b\b\b\b\b\b\b\b\b\b\b\b\b\b\b\b\b\b\b\b\b\b\b\b\b\b\b\b\b\b\b\b\b\b\b\b\b\b\b\b\b\b\b\b\b\b\b\b\b\b\b\b\b\b\n{\"logger\": \"logger_stdout\", \"request_id\": \"no request id\", \"message\": \"\\b\\b\\b\\b\\b\\b\\b\\b\\b\\b\\b\\b\\b\\b\\b\\b\\b\\b\\b\\b\\b\\b\\b\\b\\b\\b\\b\\b\\b\\b\\b\\b\\b\\b\\b\\b\\b\\b\\b\\b\\b\\b\\b\\b\\b\\b\\b\\b\\b\\b\\b\\b\\b\\b\\b\\b\\b\\b\\b\\b\", \"timestamp\": \"2019-02-04T17:47:33.010604\"}\n87040000/94653016 [==========================>...]\n{\"logger\": \"logger_stdout\", \"request_id\": \"no request id\", \"message\": \"87040000/94653016 [==========================>...]\", \"timestamp\": \"2019-02-04T17:47:33.010797\"}\n - ETA: 0s\n{\"logger\": \"logger_stdout\", \"request_id\": \"no request id\", \"message\": \" - ETA: 0s\", \"timestamp\": \"2019-02-04T17:47:33.010860\"}\n\b\b\b\b\b\b\b\b\b\b\b\b\b\b\b\b\b\b\b\b\b\b\b\b\b\b\b\b\b\b\b\b\b\b\b\b\b\b\b\b\b\b\b\b\b\b\b\b\b\b\b\b\b\b\b\b\b\b\b\b\n{\"logger\": \"logger_stdout\", \"request_id\": \"no request id\", \"message\": \"\\b\\b\\b\\b\\b\\b\\b\\b\\b\\b\\b\\b\\b\\b\\b\\b\\b\\b\\b\\b\\b\\b\\b\\b\\b\\b\\b\\b\\b\\b\\b\\b\\b\\b\\b\\b\\b\\b\\b\\b\\b\\b\\b\\b\\b\\b\\b\\b\\b\\b\\b\\b\\b\\b\\b\\b\\b\\b\\b\\b\", \"timestamp\": \"2019-02-04T17:47:33.078842\"}\n90038272/94653016 [===========================>..]\n{\"logger\": \"logger_stdout\", \"request_id\": \"no request id\", \"message\": \"90038272/94653016 [===========================>..]\", \"timestamp\": \"2019-02-04T17:47:33.079170\"}\n - ETA: 0s\n{\"logger\": \"logger_stdout\", \"request_id\": \"no request id\", \"message\": \" - ETA: 0s\", \"timestamp\": \"2019-02-04T17:47:33.079224\"}\n\b\b\b\b\b\b\b\b\b\b\b\b\b\b\b\b\b\b\b\b\b\b\b\b\b\b\b\b\b\b\b\b\b\b\b\b\b\b\b\b\b\b\b\b\b\b\b\b\b\b\b\b\b\b\b\b\b\b\b\b\n{\"logger\": \"logger_stdout\", \"request_id\": \"no request id\", \"message\": \"\\b\\b\\b\\b\\b\\b\\b\\b\\b\\b\\b\\b\\b\\b\\b\\b\\b\\b\\b\\b\\b\\b\\b\\b\\b\\b\\b\\b\\b\\b\\b\\b\\b\\b\\b\\b\\b\\b\\b\\b\\b\\b\\b\\b\\b\\b\\b\\b\\b\\b\\b\\b\\b\\b\\b\\b\\b\\b\\b\\b\", \"timestamp\": \"2019-02-04T17:47:33.147796\"}\n93085696/94653016 [============================>.]\n{\"logger\": \"logger_stdout\", \"request_id\": \"no request id\", \"message\": \"93085696/94653016 [============================>.]\", \"timestamp\": \"2019-02-04T17:47:33.148142\"}\n - ETA: 0s\n{\"logger\": \"logger_stdout\", \"request_id\": \"no request id\", \"message\": \" - ETA: 0s\", \"timestamp\": \"2019-02-04T17:47:33.148200\"}\n\b\b\b\b\b\b\b\b\b\b\b\b\b\b\b\b\b\b\b\b\b\b\b\b\b\b\b\b\b\b\b\b\b\b\b\b\b\b\b\b\b\b\b\b\b\b\b\b\b\b\b\b\b\b\b\b\b\b\b\b\n{\"logger\": \"logger_stdout\", \"request_id\": \"no request id\", \"message\": \"\\b\\b\\b\\b\\b\\b\\b\\b\\b\\b\\b\\b\\b\\b\\b\\b\\b\\b\\b\\b\\b\\b\\b\\b\\b\\b\\b\\b\\b\\b\\b\\b\\b\\b\\b\\b\\b\\b\\b\\b\\b\\b\\b\\b\\b\\b\\b\\b\\b\\b\\b\\b\\b\\b\\b\\b\\b\\b\\b\\b\", \"timestamp\": \"2019-02-04T17:47:33.163467\"}\n94658560/94653016 [==============================]\n{\"logger\": \"logger_stdout\", \"request_id\": \"no request id\", \"message\": \"94658560/94653016 [==============================]\", \"timestamp\": \"2019-02-04T17:47:33.163554\"}\n - 3s 0us/step\n{\"logger\": \"logger_stdout\", \"request_id\": \"no request id\", \"message\": \" - 3s 0us/step\\n\", \"timestamp\": \"2019-02-04T17:47:33.163806\"}\n2019-02-04 17:47:33.891140: I tensorflow/core/platform/cpu_feature_guard.cc:141] Your CPU supports instructions that this TensorFlow binary was not compiled to use: AVX2 FMA\n2019-02-04 17:47:36,218 | azureml.core.run | DEBUG | Could not load run context Failed to load a submitted run, if outside of an execution context, use project.start_run to initialize an azureml.core.Run., switching offline: False\n2019-02-04 17:47:36,218 | azureml.core.run | DEBUG | Could not load the run context and allow_offline set to False\n2019-02-04 17:47:36,218 | azureml.core.model | DEBUG | RunEnvironmentException: Failed to load a submitted run, if outside of an execution context, use project.start_run to initialize an azureml.core.Run.\n2019-02-04 17:47:36,218 | azureml.core.model | DEBUG | version is None. Latest version is 1\n2019-02-04 17:47:36,218 | azureml.core.model | DEBUG | Found model path at azureml-models/aerial_classifier/1/aerial_fcnn_classifier.h5\n{\"timestamp\": \"2019-02-04T17:47:37.892833Z\", \"message\": \"{\\\"requestId\\\": \\\"00000000-0000-0000-0000-000000000000\\\", \\\"message\\\": \\\"Users's init has completed successfully\\\", \\\"apiName\\\": \\\"\\\"}\", \"host\": \"wk-caas-c77f5ec4becd415a88f32b3560849833-092f74c6a537272167d75e\", \"path\": \"/var/azureml-app/aml_logger.py\", \"tags\": \"%(module)s, %(asctime)s, %(levelname)s, %(message)s\", \"level\": \"INFO\", \"logger\": \"root\", \"stack_info\": null}\n{\"timestamp\": \"2019-02-04T17:47:40.636102Z\", \"message\": \"{\\\"requestId\\\": \\\"00000000-0000-0000-0000-000000000000\\\", \\\"message\\\": \\\"Scoring timeout setting is not found. Use default timeout: 3600000 ms\\\", \\\"apiName\\\": \\\"\\\"}\", \"host\": \"wk-caas-c77f5ec4becd415a88f32b3560849833-092f74c6a537272167d75e\", \"path\": \"/var/azureml-app/aml_logger.py\", \"tags\": \"%(module)s, %(asctime)s, %(levelname)s, %(message)s\", \"level\": \"INFO\", \"logger\": \"root\", \"stack_info\": null}\n{\"timestamp\": \"2019-02-04T17:47:40.638963Z\", \"message\": \"127.0.0.1 - - [04/Feb/2019:17:47:40 +0000] \\\"GET / HTTP/1.0\\\" 200 7 \\\"-\\\" \\\"Go-http-client/1.1\\\"\", \"host\": \"wk-caas-c77f5ec4becd415a88f32b3560849833-092f74c6a537272167d75e\", \"path\": \"/opt/miniconda/lib/python3.6/site-packages/gunicorn/glogging.py\", \"tags\": \"%(module)s, %(asctime)s, %(levelname)s, %(message)s\", \"level\": \"INFO\", \"logger\": \"gunicorn.access\", \"stack_info\": null}\n{\"timestamp\": \"2019-02-04T17:47:45.755941Z\", \"message\": \"127.0.0.1 - - [04/Feb/2019:17:47:45 +0000] \\\"GET / HTTP/1.0\\\" 200 7 \\\"-\\\" \\\"Go-http-client/1.1\\\"\", \"host\": \"wk-caas-c77f5ec4becd415a88f32b3560849833-092f74c6a537272167d75e\", \"path\": \"/opt/miniconda/lib/python3.6/site-packages/gunicorn/glogging.py\", \"tags\": \"%(module)s, %(asctime)s, %(levelname)s, %(message)s\", \"level\": \"INFO\", \"logger\": \"gunicorn.access\", \"stack_info\": null}\n{\"timestamp\": \"2019-02-04T17:47:50.541214Z\", \"message\": \"127.0.0.1 - - [04/Feb/2019:17:47:50 +0000] \\\"GET / HTTP/1.0\\\" 200 7 \\\"-\\\" \\\"Go-http-client/1.1\\\"\", \"host\": \"wk-caas-c77f5ec4becd415a88f32b3560849833-092f74c6a537272167d75e\", \"path\": \"/opt/miniconda/lib/python3.6/site-packages/gunicorn/glogging.py\", \"tags\": \"%(module)s, %(asctime)s, %(levelname)s, %(message)s\", \"level\": \"INFO\", \"logger\": \"gunicorn.access\", \"stack_info\": null}\n{\"timestamp\": \"2019-02-04T17:47:51.096934Z\", \"message\": \"127.0.0.1 - - [04/Feb/2019:17:47:51 +0000] \\\"GET / HTTP/1.0\\\" 200 7 \\\"-\\\" \\\"Go-http-client/1.1\\\"\", \"host\": \"wk-caas-c77f5ec4becd415a88f32b3560849833-092f74c6a537272167d75e\", \"path\": \"/opt/miniconda/lib/python3.6/site-packages/gunicorn/glogging.py\", \"tags\": \"%(module)s, %(asctime)s, %(levelname)s, %(message)s\", \"level\": \"INFO\", \"logger\": \"gunicorn.access\", \"stack_info\": null}\n\n",
          "name": "stdout"
        }
      ]
    },
    {
      "metadata": {},
      "cell_type": "markdown",
      "source": "Get the scoring web service's HTTP endpoint, which accepts REST client calls. This endpoint can be shared with anyone who wants to test the web service or integrate it into an application."
    },
    {
      "metadata": {
        "trusted": true
      },
      "cell_type": "code",
      "source": "print(aci_service.scoring_uri)",
      "execution_count": 12,
      "outputs": [
        {
          "output_type": "stream",
          "text": "http://52.157.21.30:80/score\n",
          "name": "stdout"
        }
      ]
    },
    {
      "metadata": {},
      "cell_type": "markdown",
      "source": "## Test deployed service\n\n\nDownload test images."
    },
    {
      "metadata": {
        "trusted": true
      },
      "cell_type": "code",
      "source": "%%sh\ncd /tmp\nwget -nv https://azureailabs.blob.core.windows.net/aerialsamples/barren-1.png\nwget -nv https://azureailabs.blob.core.windows.net/aerialsamples/cultivated-1.png\nwget -nv https://azureailabs.blob.core.windows.net/aerialsamples/developed-1.png\nls -l\n",
      "execution_count": 13,
      "outputs": [
        {
          "output_type": "stream",
          "text": "total 308\n-rw-r--r-- 1 nbuser nbuser 71190 Nov  6 01:19 barren-1.png\n-rw------- 1 nbuser nbuser    54 Jan 24 07:30 clock_gettimeedtUjZ.c\n-rw------- 1 nbuser nbuser    54 Jan 24 07:50 clock_gettimemz9wcit0.c\n-rw------- 1 nbuser nbuser    54 Jan 24 07:39 clock_gettimeno97sd6l.c\n-rw------- 1 nbuser nbuser    54 Jan 24 07:30 clock_gettimevxIYQE.c\n-rw------- 1 nbuser nbuser    54 Jan 24 07:39 clock_gettimew7jo8kez.c\n-rw------- 1 nbuser nbuser    54 Jan 24 07:50 clock_gettimezkrgfhja.c\n-rw-r--r-- 1 nbuser nbuser 79841 Nov  6 01:19 cultivated-1.png\n-rw-r--r-- 1 nbuser nbuser 96252 Nov  6 01:19 developed-1.png\ndrwxr-xr-x 2 root   root    4096 Jan 24 07:22 hsperfdata_root\ndrwxr-xr-x 3 root   root    4096 Jan 24 06:27 npm-169-867310c7\ndrwxr-xr-x 3 root   root    4096 Jan 24 06:28 npm-293-63cc6e69\ndrwxr-xr-x 3 root   root    4096 Jan 24 06:25 npm-45-1d593cbf\ndrwxr-xr-x 2 nbuser nbuser  4096 Jan 24 07:58 paket\n-rw------- 1 nbuser nbuser    43 Feb  4 17:42 requirements0g46kwai.txt\n-rw-r--r-- 1 nbuser nbuser     8 Jan 24 07:58 tmp714dac06.fs\n-rw------- 1 nbuser nbuser     0 Jan 24 07:58 tmp714dac06.tmp\n-rw------- 1 nbuser nbuser  2796 Feb  4 17:42 tmpgv4nuv_j.py\ndrwx------ 2 nbuser nbuser  4096 Feb  4 17:42 tmpwrxq0avj\n",
          "name": "stdout"
        },
        {
          "output_type": "stream",
          "text": "2019-02-04 17:51:15 URL:https://azureailabs.blob.core.windows.net/aerialsamples/barren-1.png [71190/71190] -> \"barren-1.png\" [1]\n2019-02-04 17:51:16 URL:https://azureailabs.blob.core.windows.net/aerialsamples/cultivated-1.png [79841/79841] -> \"cultivated-1.png\" [1]\n2019-02-04 17:51:17 URL:https://azureailabs.blob.core.windows.net/aerialsamples/developed-1.png [96252/96252] -> \"developed-1.png\" [1]\n",
          "name": "stderr"
        }
      ]
    },
    {
      "metadata": {},
      "cell_type": "markdown",
      "source": "Define utility function that wraps loading images and invoking the service. The function takes as an input a list of pathnames to images. It loads and converts the binary images into a JSON array and invokes the service passing the JSON payload."
    },
    {
      "metadata": {
        "trusted": true
      },
      "cell_type": "code",
      "source": "from PIL import Image\nimport numpy as np\nimport json\n\ndef score(pathnames, service):\n    images = []\n    for pathname in pathnames:\n        img = Image.open(pathname)\n        img = np.asarray(img).tolist()\n        images.append(img)\n    images = json.dumps({\"data\": images})\n    images = bytes(images, encoding='utf8')\n    results = json.loads(service.run(input_data=images))\n    return results",
      "execution_count": 14,
      "outputs": []
    },
    {
      "metadata": {},
      "cell_type": "markdown",
      "source": "Call the service."
    },
    {
      "metadata": {
        "trusted": true
      },
      "cell_type": "code",
      "source": "aci_service = Webservice(workspace=ws, name='aerial-classifier-svc')\n\npathnames = ['/tmp/barren-1.png', '/tmp/developed-1.png', '/tmp/cultivated-1.png']\n\nresults = score(pathnames, aci_service)\n\nprint(results)",
      "execution_count": 15,
      "outputs": [
        {
          "output_type": "stream",
          "text": "{'predictions': [[0.010549367405474186, 0.015427099540829659, 0.0005459703388623893, 0.0008418725919909775, 0.024088528007268906, 0.9485471844673157], [1.100195348158195e-07, 1.7579907307663234e-06, 0.9999979734420776, 8.429084985550617e-09, 1.2771913304732152e-07, 2.627759954076936e-10], [6.1513578657468315e-06, 0.9999005794525146, 6.986770313233137e-05, 1.1953638932027388e-05, 1.1384202480257954e-05, 2.2283416001300793e-08]]}\n",
          "name": "stdout"
        }
      ]
    },
    {
      "metadata": {},
      "cell_type": "markdown",
      "source": "## Clean up resources\n\nDelete the ACI service."
    },
    {
      "metadata": {
        "trusted": true
      },
      "cell_type": "code",
      "source": "aci_service.delete()",
      "execution_count": 17,
      "outputs": [
        {
          "output_type": "stream",
          "text": "No service with name aerial-classifier-svc found to delete.\n",
          "name": "stdout"
        }
      ]
    },
    {
      "metadata": {
        "trusted": false
      },
      "cell_type": "code",
      "source": "",
      "execution_count": null,
      "outputs": []
    }
  ],
  "metadata": {
    "kernelspec": {
      "name": "python36",
      "display_name": "Python 3.6",
      "language": "python"
    },
    "language_info": {
      "mimetype": "text/x-python",
      "nbconvert_exporter": "python",
      "name": "python",
      "pygments_lexer": "ipython3",
      "version": "3.6.6",
      "file_extension": ".py",
      "codemirror_mode": {
        "version": 3,
        "name": "ipython"
      }
    }
  },
  "nbformat": 4,
  "nbformat_minor": 2
}