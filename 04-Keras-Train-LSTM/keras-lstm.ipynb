{
 "cells": [
  {
   "cell_type": "markdown",
   "metadata": {},
   "source": [
    "# IoT data processing\n",
    "\n",
    "In this lab we will demonstrate how to utilize Azure Machine Learning service to orchestrate TensorFlow training of IoT time series data.\n",
    "\n",
    "\n",
    "# Note \n",
    "\n",
    "This lab requires `h5py` library installed in the Jupyter runtime environment. \n",
    "\n",
    "\n",
    "## Scenario \n",
    "\n",
    "[Solar power forecasting](https://en.wikipedia.org/wiki/Solar_power_forecasting) is a challenging and important problem. The solar energy generation forecasting problem is closely linked to the problem of weather variables forecasting. Indeed, this problem is usually split into two parts, on one hand focusing on the forecasting of solar PV or any other meteorological variable and on the other hand estimating the amount of energy that a concrete power plant will produce with the estimated meteorological resource. In general, the way to deal with this difficult problem is usually related to the spatial and temporal scales we are interested in. This tutorial focusses on a simplified forecasting model using previously generated data from solar panel to predict the future. \n",
    "\n",
    "Using historic daily production of a solar panel, we want to predict the total power production of the solar panel array for a day. We will be using the LSTM based time series prediction model to predict the daily output of a solar panel based on the initial readings of the day. \n",
    "\n",
    "We train the model with historical data of the solar panel. In our example we want to predict the total power production of the solar panel array for the day starting with the initial readings of the day. We start predicting after the first 2 readings and adjust the prediction with each new reading.\n",
    "\n",
    "## Data exploration\n",
    "\n",
    "Our solar panel, emits two measures at every 30 min interval:\n",
    "- `solar.current` is the current production in Watt\n",
    "- `solar.total` is the total produced for the day so far \n",
    "\n",
    "Our prediction approach involves starting with the first 2 initial readings of the day. Based on these readings we start predicting and adjust the prediction with each new reading. The training data we are going to use comes as a csv file and has the following format:\n",
    "\n",
    ">```\n",
    "time,solar.current,solar.total\n",
    "7am,6.3,1.7\n",
    "7:30am,44.3,11.4\n",
    "...\n",
    ">```\n",
    "\n"
   ]
  },
  {
   "cell_type": "code",
   "execution_count": 1,
   "metadata": {},
   "outputs": [
    {
     "data": {
      "text/html": [
       "<div>\n",
       "<style scoped>\n",
       "    .dataframe tbody tr th:only-of-type {\n",
       "        vertical-align: middle;\n",
       "    }\n",
       "\n",
       "    .dataframe tbody tr th {\n",
       "        vertical-align: top;\n",
       "    }\n",
       "\n",
       "    .dataframe thead th {\n",
       "        text-align: right;\n",
       "    }\n",
       "</style>\n",
       "<table border=\"1\" class=\"dataframe\">\n",
       "  <thead>\n",
       "    <tr style=\"text-align: right;\">\n",
       "      <th></th>\n",
       "      <th>time</th>\n",
       "      <th>solar.current</th>\n",
       "      <th>solar.total</th>\n",
       "    </tr>\n",
       "  </thead>\n",
       "  <tbody>\n",
       "    <tr>\n",
       "      <th>0</th>\n",
       "      <td>2013-12-01 07:00:00</td>\n",
       "      <td>6.300000</td>\n",
       "      <td>1.69</td>\n",
       "    </tr>\n",
       "    <tr>\n",
       "      <th>1</th>\n",
       "      <td>2013-12-01 07:30:00</td>\n",
       "      <td>44.299999</td>\n",
       "      <td>11.36</td>\n",
       "    </tr>\n",
       "    <tr>\n",
       "      <th>2</th>\n",
       "      <td>2013-12-01 08:00:00</td>\n",
       "      <td>208.000000</td>\n",
       "      <td>67.50</td>\n",
       "    </tr>\n",
       "    <tr>\n",
       "      <th>3</th>\n",
       "      <td>2013-12-01 08:30:00</td>\n",
       "      <td>482.000000</td>\n",
       "      <td>250.50</td>\n",
       "    </tr>\n",
       "    <tr>\n",
       "      <th>4</th>\n",
       "      <td>2013-12-01 09:00:00</td>\n",
       "      <td>774.000000</td>\n",
       "      <td>573.50</td>\n",
       "    </tr>\n",
       "  </tbody>\n",
       "</table>\n",
       "</div>"
      ],
      "text/plain": [
       "                  time  solar.current  solar.total\n",
       "0  2013-12-01 07:00:00       6.300000         1.69\n",
       "1  2013-12-01 07:30:00      44.299999        11.36\n",
       "2  2013-12-01 08:00:00     208.000000        67.50\n",
       "3  2013-12-01 08:30:00     482.000000       250.50\n",
       "4  2013-12-01 09:00:00     774.000000       573.50"
      ]
     },
     "execution_count": 1,
     "metadata": {},
     "output_type": "execute_result"
    }
   ],
   "source": [
    "import pandas as pd\n",
    "import numpy as np\n",
    "\n",
    "df = pd.read_csv('data/solar.csv')\n",
    "df.head()"
   ]
  },
  {
   "cell_type": "markdown",
   "metadata": {},
   "source": [
    "The training dataset we use contains data captured for 3 years.\n",
    "The dataset is not pre-processed: it is raw data and contains smaller gaps and errors (like a panel failed to report).\n",
    "\n",
    "To pre-process raw data we define a utility function `generate_solar_data()`. \n",
    "\n",
    "`generate_solar_data()` function performs the following tasks:\n",
    "- read raw data into a pandas dataframe, \n",
    "- normalize the data, \n",
    "- groups by day and \n",
    "- append the columns \"solar.current.max\" and \"solar.total.max\", and\n",
    "- generates the sequences for each day.\n",
    "\n",
    "*Sequence generation*: All sequences are concatenated into a single list of sequences. There is *no more notion of timestamp* in our train input and **only** the sequences matter.\n",
    "\n",
    "**Note** if we have less than 8 datapoints for a day we skip over the day assuming something is missing in the raw data. If we get more than 14 data points in a day we truncate the readings.\n",
    "\n",
    "We split the dataset in the following manner: pick in sequence, 8 values for training, 1 for validation and 1 for test until there is no more data. This will spread training, validation and test datasets across the full timeline while preserving time order.\n",
    "\n",
    "\n",
    "## Network model\n",
    "\n",
    "\n",
    "We utilize LSTM network architecture for our model.\n",
    "\n",
    "Corresponding  to the maximum possible 14 data points in the input sequence, we model our network with 14 LSTM cells, 1 cell for each data point we take during the day. \n",
    "\n",
    "The outputs from the LSTMs are fed into a dense layer and we randomly dropout 20% of the values to not overfit the model to the training set. The output of the dense layer becomes the prediction our model generates.\n",
    "\n",
    "Notice: We lost the timestamp altogether; in our model only the sequences of readings matter. \n",
    "\n",
    "Our LSTM model has the following design:\n",
    "![lstm](https://github.com/jakazmie/images-for-hands-on-labs/raw/master/lstm.png)\n",
    "\n",
    "The network model is an exact translation of the network diagram above.\n",
    "\n"
   ]
  },
  {
   "cell_type": "markdown",
   "metadata": {},
   "source": [
    "## Prepare data\n",
    "\n",
    "Define pre-processing function."
   ]
  },
  {
   "cell_type": "code",
   "execution_count": 2,
   "metadata": {},
   "outputs": [],
   "source": [
    "from tensorflow.python.keras.preprocessing.sequence import pad_sequences\n",
    "\n",
    "def generate_solar_data(dataset_path, time_steps, normalize=1, val_size=0.1, test_size=0.1):\n",
    "    \"\"\"\n",
    "    generate sequences to feed to rnn based on data frame with solar panel data\n",
    "    the csv has the format: time ,solar.current, solar.total\n",
    "     (solar.current is the current output in Watt, solar.total is the total production\n",
    "      for the day so far in Watt hours)\n",
    "    \"\"\"\n",
    "    \n",
    "    df = pd.read_csv(dataset_path, index_col=\"time\", parse_dates=['time'], dtype=np.float32)\n",
    "    \n",
    "    df[\"date\"] = df.index.date\n",
    "    \n",
    "    # normalize data\n",
    "    df['solar.current'] /= normalize\n",
    "    df['solar.total'] /= normalize\n",
    "    \n",
    "    # group by day, find the max for a day and add a new column .max\n",
    "    grouped = df.groupby(df.index.date).max()\n",
    "    grouped.columns = [\"solar.current.max\", \"solar.total.max\", \"date\"]\n",
    "\n",
    "    # merge continuous readings and daily max values into a single frame\n",
    "    df_merged = pd.merge(df, grouped, right_index=True, on=\"date\")\n",
    "    df_merged = df_merged[[\"solar.current\", \"solar.total\",\n",
    "                           \"solar.current.max\", \"solar.total.max\"]]\n",
    "    # we group by day so we can process a day at a time.\n",
    "    grouped = df_merged.groupby(df_merged.index.date)\n",
    "    per_day = []\n",
    "    for _, group in grouped:\n",
    "        per_day.append(group)\n",
    "\n",
    "    # split the dataset into train, validatation and test sets on day boundaries\n",
    "    val_size = int(len(per_day) * val_size)\n",
    "    test_size = int(len(per_day) * test_size)\n",
    "    next_val = 0\n",
    "    next_test = 0\n",
    "\n",
    "    result_x = {\"train\": [], \"val\": [], \"test\": []}\n",
    "    result_y = {\"train\": [], \"val\": [], \"test\": []}    \n",
    "\n",
    "    # generate sequences a day at a time\n",
    "    for i, day in enumerate(per_day):\n",
    "        # if we have less than 8 datapoints for a day we skip over the\n",
    "        # day assuming something is missing in the raw data\n",
    "        total = day[\"solar.total\"].values.tolist()\n",
    "        if len(total) < 8:\n",
    "            continue\n",
    "        if i >= next_val:\n",
    "            current_set = \"val\"\n",
    "            next_val = i + int(len(per_day) / val_size)\n",
    "        elif i >= next_test:\n",
    "            current_set = \"test\"\n",
    "            next_test = i + int(len(per_day) / test_size)\n",
    "        else:\n",
    "            current_set = \"train\"\n",
    "        max_total_for_day = np.array(day[\"solar.total.max\"].values[0])\n",
    "        for j in range(2, len(total)):\n",
    "            result_x[current_set].append(total[0:j])\n",
    "            result_y[current_set].append([max_total_for_day])\n",
    "            if j >= time_steps:\n",
    "                break\n",
    "                \n",
    "    # pad result_x sequences with 0 and convert to numpy.array\n",
    "    # make result_y a numpy array\n",
    "    for ds in [\"train\", \"val\", \"test\"]:\n",
    "        sequences = pad_sequences(result_x[ds], dtype='float32')\n",
    "        sequences = sequences.reshape((len(sequences), time_steps, 1))\n",
    "        result_x[ds] = sequences\n",
    "        result_y[ds] = np.array(result_y[ds])\n",
    "    return result_x, result_y\n"
   ]
  },
  {
   "cell_type": "markdown",
   "metadata": {},
   "source": [
    "Generate training, validation and test sequences."
   ]
  },
  {
   "cell_type": "code",
   "execution_count": 3,
   "metadata": {},
   "outputs": [],
   "source": [
    "# Generate training and validation sequences\n",
    "# We keep up to 14 readings from a day\n",
    "TIMESTEPS = 14\n",
    "# 20000 is the maximum total output in our dataset. We normalize all values with this so our inputs are between 0.0 and 1.0 range\n",
    "NORMALIZE = 20000\n",
    "filepath = 'data/solar.csv'\n",
    "X, Y = generate_solar_data(filepath, TIMESTEPS, normalize=NORMALIZE)\n"
   ]
  },
  {
   "cell_type": "markdown",
   "metadata": {},
   "source": [
    "Show pre-processed sequences."
   ]
  },
  {
   "cell_type": "code",
   "execution_count": 4,
   "metadata": {},
   "outputs": [
    {
     "name": "stdout",
     "output_type": "stream",
     "text": [
      "Features:\n",
      "[[[0.       ]\n",
      "  [0.       ]\n",
      "  [0.       ]\n",
      "  [0.       ]\n",
      "  [0.       ]\n",
      "  [0.       ]\n",
      "  [0.       ]\n",
      "  [0.       ]\n",
      "  [0.       ]\n",
      "  [0.       ]\n",
      "  [0.       ]\n",
      "  [0.       ]\n",
      "  [0.       ]\n",
      "  [0.0006985]]\n",
      "\n",
      " [[0.       ]\n",
      "  [0.       ]\n",
      "  [0.       ]\n",
      "  [0.       ]\n",
      "  [0.       ]\n",
      "  [0.       ]\n",
      "  [0.       ]\n",
      "  [0.       ]\n",
      "  [0.       ]\n",
      "  [0.       ]\n",
      "  [0.       ]\n",
      "  [0.       ]\n",
      "  [0.0006985]\n",
      "  [0.0033175]]]\n",
      "Labels\n",
      "[[0.239]\n",
      " [0.239]]\n"
     ]
    }
   ],
   "source": [
    "print(\"Features:\")\n",
    "print(X['train'][0:2])\n",
    "print(\"Labels\")\n",
    "print(Y['train'][0:2])"
   ]
  },
  {
   "cell_type": "markdown",
   "metadata": {},
   "source": [
    "Persist the data in HDF5 format."
   ]
  },
  {
   "cell_type": "code",
   "execution_count": 5,
   "metadata": {},
   "outputs": [],
   "source": [
    "import h5py\n",
    "\n",
    "output_file = '/tmp/labeled_sequences.h5'\n",
    "with h5py.File(output_file, \"w\") as hfile:\n",
    "    hfile.create_dataset('XTrain', data=X['train'])\n",
    "    hfile.create_dataset('YTrain', data=Y['train'])\n",
    "    hfile.create_dataset('XValid', data=X['val'])\n",
    "    hfile.create_dataset('YValid', data=Y['val'])\n",
    "    hfile.create_dataset('XTest', data=X['test'])\n",
    "    hfile.create_dataset('YTest', data=Y['test'])"
   ]
  },
  {
   "cell_type": "code",
   "execution_count": 6,
   "metadata": {},
   "outputs": [
    {
     "name": "stdout",
     "output_type": "stream",
     "text": [
      "labeled_sequences.h5  lstm-model.h5  wli_674bac5b-8413-44db-a017-b2e810be4238\r\n"
     ]
    }
   ],
   "source": [
    "!ls /tmp"
   ]
  },
  {
   "cell_type": "markdown",
   "metadata": {},
   "source": [
    "### Upload data to the workspace."
   ]
  },
  {
   "cell_type": "markdown",
   "metadata": {},
   "source": [
    "\n",
    "Connect to the workspace"
   ]
  },
  {
   "cell_type": "code",
   "execution_count": 7,
   "metadata": {},
   "outputs": [
    {
     "name": "stdout",
     "output_type": "stream",
     "text": [
      "SDK version: 1.0.8\n"
     ]
    }
   ],
   "source": [
    "# Check core SDK version number\n",
    "import azureml.core\n",
    "print(\"SDK version:\", azureml.core.VERSION)"
   ]
  },
  {
   "cell_type": "code",
   "execution_count": 8,
   "metadata": {},
   "outputs": [
    {
     "name": "stdout",
     "output_type": "stream",
     "text": [
      "Found the config file in: /data/home/demouser/notebooks/MTC_AzureAILabs/ML-DeepLearningOnAzure/aml_config/config.json\n",
      "jkamlws\n",
      "jkamlws\n",
      "southcentralus\n",
      "952a710c-8d9c-40c1-9fec-f752138cc0b3\n"
     ]
    }
   ],
   "source": [
    "import azureml.core\n",
    "from azureml.core import Workspace\n",
    "\n",
    "ws = Workspace.from_config()\n",
    "print(ws.name, ws.resource_group, ws.location, ws.subscription_id, sep='\\n')"
   ]
  },
  {
   "cell_type": "markdown",
   "metadata": {},
   "source": [
    "Upload the the file to the default Datastore in the Workspace."
   ]
  },
  {
   "cell_type": "code",
   "execution_count": 9,
   "metadata": {},
   "outputs": [
    {
     "name": "stdout",
     "output_type": "stream",
     "text": [
      "AzureBlob jkamlwsstoragergtnfrjh azureml-blobstore-4ab14ae1-5018-429e-9418-d817fc89d57e\n",
      "Uploading /tmp/labeled_sequences.h5\n",
      "Uploaded /tmp/labeled_sequences.h5, 1 files out of an estimated total of 1\n"
     ]
    },
    {
     "data": {
      "text/plain": [
       "$AZUREML_DATAREFERENCE_5f81fec26e344871a9020f4f872bc00b"
      ]
     },
     "execution_count": 9,
     "metadata": {},
     "output_type": "execute_result"
    }
   ],
   "source": [
    "ds = ws.get_default_datastore()\n",
    "print(ds.datastore_type, ds.account_name, ds.container_name)\n",
    "\n",
    "ds.upload_files(files=[output_file], target_path='iot', overwrite=True, show_progress=True)"
   ]
  },
  {
   "cell_type": "markdown",
   "metadata": {},
   "source": [
    "## Train the model\n",
    "### Create AML Compute Target\n",
    "\n",
    "LSTM networks require a lot of computational capacity to train. We will utilize a GPU equipped AML Compute target for training.\n"
   ]
  },
  {
   "cell_type": "code",
   "execution_count": 10,
   "metadata": {},
   "outputs": [
    {
     "name": "stdout",
     "output_type": "stream",
     "text": [
      "found compute target. just use it. gpu-cluster\n"
     ]
    }
   ],
   "source": [
    "from azureml.core.compute import AmlCompute\n",
    "from azureml.core.compute import ComputeTarget\n",
    "import os\n",
    "\n",
    "\n",
    "# choose a name for your cluster\n",
    "compute_name = os.environ.get(\"AML_COMPUTE_CLUSTER_NAME\", \"gpu-cluster\")\n",
    "compute_min_nodes = os.environ.get(\"AML_COMPUTE_CLUSTER_MIN_NODES\", 1)\n",
    "compute_max_nodes = os.environ.get(\"AML_COMPUTE_CLUSTER_MAX_NODES\", 1)\n",
    "\n",
    "vm_size = os.environ.get(\"AML_COMPUTE_CLUSTER_SKU\", \"STANDARD_NC6\")\n",
    "\n",
    "if compute_name in ws.compute_targets:\n",
    "    compute_target = ws.compute_targets[compute_name]\n",
    "    if compute_target and type(compute_target) is AmlCompute:\n",
    "        print('found compute target. just use it. ' + compute_name)\n",
    "else:\n",
    "    print('creating a new compute target...')\n",
    "    provisioning_config = AmlCompute.provisioning_configuration(vm_size = vm_size,\n",
    "                                                                min_nodes = compute_min_nodes, \n",
    "                                                                max_nodes = compute_max_nodes)\n",
    "\n",
    "    # create the cluster\n",
    "    compute_target = ComputeTarget.create(ws, compute_name, provisioning_config)\n",
    "\n",
    "    # can poll for a minimum number of nodes and for a specific timeout. \n",
    "    # if no min node count is provided it will use the scale settings for the cluster\n",
    "    compute_target.wait_for_completion(show_output=True, min_node_count=None, timeout_in_minutes=20)\n",
    "\n",
    "     # For a more detailed view of current AmlCompute status, use the 'status' property    \n",
    "    print(compute_target.status.serialize())"
   ]
  },
  {
   "cell_type": "markdown",
   "metadata": {},
   "source": [
    "### Create a training script"
   ]
  },
  {
   "cell_type": "code",
   "execution_count": 11,
   "metadata": {},
   "outputs": [],
   "source": [
    "import os\n",
    "script_folder = './script'\n",
    "os.makedirs(script_folder, exist_ok=True)"
   ]
  },
  {
   "cell_type": "code",
   "execution_count": 12,
   "metadata": {},
   "outputs": [
    {
     "name": "stdout",
     "output_type": "stream",
     "text": [
      "Overwriting ./script/train.py\n"
     ]
    }
   ],
   "source": [
    "%%writefile $script_folder/train.py\n",
    "\n",
    "import os\n",
    "import pandas as pd\n",
    "import numpy as np\n",
    "import h5py\n",
    "\n",
    "import tensorflow as tf\n",
    "\n",
    "from tensorflow.python.keras.layers import Add\n",
    "from tensorflow.python.keras.layers import Dense\n",
    "from tensorflow.python.keras.layers import Dropout\n",
    "from tensorflow.python.keras.layers import Flatten\n",
    "from tensorflow.python.keras.layers import LSTM\n",
    "from tensorflow.python.keras.models import Sequential\n",
    "\n",
    "from tensorflow.python.keras.preprocessing.sequence import pad_sequences\n",
    "from tensorflow.python.keras.callbacks import TensorBoard\n",
    "\n",
    "\n",
    "\n",
    "def network_model(hidden_size, time_steps):\n",
    "    \"\"\"\n",
    "    Define LSTM network model \n",
    "    \"\"\"\n",
    "    model = Sequential()\n",
    "    model.add(LSTM(hidden_size, return_sequences=False, input_shape=(time_steps, 1)))\n",
    "    model.add(Dropout(0.2))\n",
    "    model.add(Dense(1))\n",
    "    \n",
    "    optimizer = 'rmsprop'\n",
    "    loss = 'mse'\n",
    "    metrics = ['mse']\n",
    "    \n",
    "    model.compile(loss=loss, optimizer=optimizer, metrics=metrics)\n",
    "    \n",
    "    return model\n",
    "\n",
    "\n",
    "def main(argv=None):\n",
    "       \n",
    "    # Load training and validation data\n",
    "    filepath = os.path.join(FLAGS.data_folder, FLAGS.filename)\n",
    "    # Load bottleneck training features and labels\n",
    "    with h5py.File(filepath, \"r\") as hfile:\n",
    "        X_train = np.array(hfile.get('XTrain'))\n",
    "        y_train = np.array(hfile.get('YTrain'))\n",
    "        X_valid = np.array(hfile.get('XValid'))\n",
    "        y_valid = np.array(hfile.get('YValid'))\n",
    "    \n",
    "    # Create the LSTM model\n",
    "    TIMESTEPS=14\n",
    "    lstm_model = network_model(FLAGS.hidden_size, TIMESTEPS)\n",
    "    \n",
    "    # Start training\n",
    "    logdir = './logs'\n",
    "    tensorboard = TensorBoard(log_dir=logdir)\n",
    "    run_history = lstm_model.fit(X_train, y_train, \n",
    "                            batch_size=FLAGS.batch_size, \n",
    "                            epochs=FLAGS.epochs, \n",
    "                            validation_data = (X_valid, y_valid), \n",
    "                            callbacks = [tensorboard])\n",
    "    \n",
    "    # Save model\n",
    "    model_path = 'outputs/lstm-model.h5'\n",
    "    lstm_model.save(model_path)\n",
    "    print(\"Saved the model: \", model_path)\n",
    "\n",
    "  \n",
    "FLAGS = tf.app.flags.FLAGS\n",
    "\n",
    "# Default global parameters\n",
    "tf.app.flags.DEFINE_string('data_folder', 'iot', \"Folder with training data\")\n",
    "tf.app.flags.DEFINE_string('filename', 'labeled_sequences.h5', \"Training file\")\n",
    "tf.app.flags.DEFINE_integer('steps', 1000, \"Number of steps to train for\")\n",
    "tf.app.flags.DEFINE_integer('val_steps', 100, \"Number of validation steps\")\n",
    "tf.app.flags.DEFINE_integer('hidden_size', 15, \"Size of the hidden layer\")\n",
    "tf.app.flags.DEFINE_integer('batch_size', 32, \"Batch size\")\n",
    "tf.app.flags.DEFINE_integer('epochs', 10, \"Batch size\")\n",
    "\n",
    "if __name__ == '__main__':\n",
    "    tf.app.run()"
   ]
  },
  {
   "cell_type": "markdown",
   "metadata": {},
   "source": [
    "### Create an Experiment"
   ]
  },
  {
   "cell_type": "code",
   "execution_count": 13,
   "metadata": {},
   "outputs": [],
   "source": [
    "from azureml.core import Experiment\n",
    "experiment_name = 'distributed-training'\n",
    "exp = Experiment(workspace=ws, name=experiment_name)"
   ]
  },
  {
   "cell_type": "markdown",
   "metadata": {},
   "source": [
    "### Start and monitor the run"
   ]
  },
  {
   "cell_type": "code",
   "execution_count": 14,
   "metadata": {},
   "outputs": [],
   "source": [
    "from azureml.train.dnn import TensorFlow\n",
    "\n",
    "ds = ws.get_default_datastore()\n",
    "\n",
    "script_params = {\n",
    "    '--data_folder': ds.path('iot').as_mount(),\n",
    "    '--filename': 'labeled_sequences.h5',\n",
    "    '--epochs': 50\n",
    "    \n",
    "}\n",
    "\n",
    "pip_packages = ['h5py', 'pandas==0.23.4']\n",
    "\n",
    "est = TensorFlow(source_directory=script_folder,\n",
    "                script_params=script_params,\n",
    "                compute_target=compute_target,\n",
    "                entry_script='train.py',\n",
    "                use_gpu=True,\n",
    "                pip_packages=pip_packages)\n"
   ]
  },
  {
   "cell_type": "code",
   "execution_count": 15,
   "metadata": {},
   "outputs": [
    {
     "data": {
      "application/vnd.jupyter.widget-view+json": {
       "model_id": "610317d540c3450883a7d8e94271b864",
       "version_major": 2,
       "version_minor": 0
      },
      "text/plain": [
       "_UserRunWidget(widget_settings={'childWidgetDisplay': 'popup', 'send_telemetry': False, 'log_level': 'INFO', '…"
      ]
     },
     "metadata": {},
     "output_type": "display_data"
    }
   ],
   "source": [
    "from azureml.widgets import RunDetails\n",
    "\n",
    "tags = {\"Compute target\": \"AML Compute GPU\", \"DNN\": \"LSTM\"}\n",
    "run = exp.submit(config=est, tags=tags)\n",
    "\n",
    "RunDetails(run).show()"
   ]
  },
  {
   "cell_type": "markdown",
   "metadata": {},
   "source": [
    "### Retrieve the trained model"
   ]
  },
  {
   "cell_type": "code",
   "execution_count": 17,
   "metadata": {},
   "outputs": [
    {
     "name": "stdout",
     "output_type": "stream",
     "text": [
      "['azureml-logs/55_batchai_execution.txt', 'azureml-logs/60_control_log.txt', 'azureml-logs/80_driver_log.txt', 'azureml-logs/azureml.log', 'logs/events.out.tfevents.1548875736.fd39061a2787486a9e986412f2be0306000000', 'outputs/lstm-model.h5']\n"
     ]
    }
   ],
   "source": [
    "print(run.get_file_names())"
   ]
  },
  {
   "cell_type": "code",
   "execution_count": 18,
   "metadata": {},
   "outputs": [],
   "source": [
    "model_path = '/tmp/lstm-model.h5'\n",
    "run.download_file('outputs/lstm-model.h5', model_path)"
   ]
  },
  {
   "cell_type": "markdown",
   "metadata": {},
   "source": [
    "### Load and test the model\n",
    "\n"
   ]
  },
  {
   "cell_type": "code",
   "execution_count": 19,
   "metadata": {},
   "outputs": [],
   "source": [
    "from tensorflow.python.keras.models import load_model\n",
    "\n",
    "lstm_model = load_model(model_path)\n",
    "result = lstm_model.predict(X['test'])"
   ]
  },
  {
   "cell_type": "markdown",
   "metadata": {},
   "source": [
    "Plot predictions against the test data."
   ]
  },
  {
   "cell_type": "code",
   "execution_count": 20,
   "metadata": {},
   "outputs": [
    {
     "data": {
      "text/plain": [
       "[<matplotlib.lines.Line2D at 0x7ffb182fe4e0>]"
      ]
     },
     "execution_count": 20,
     "metadata": {},
     "output_type": "execute_result"
    },
    {
     "data": {
      "image/png": "[encoded data removed]",
      "text/plain": [
       "<Figure size 432x288 with 1 Axes>"
      ]
     },
     "metadata": {
      "needs_background": "light"
     },
     "output_type": "display_data"
    }
   ],
   "source": [
    "from matplotlib import pyplot as plt\n",
    "%matplotlib inline\n",
    "\n",
    "plt.plot(result)\n",
    "plt.plot(Y['test'])"
   ]
  },
  {
   "cell_type": "code",
   "execution_count": null,
   "metadata": {},
   "outputs": [],
   "source": []
  }
 ],
 "metadata": {
  "kernelspec": {
   "display_name": "Python 3.6 - AzureML",
   "language": "python",
   "name": "python3-azureml"
  },
  "language_info": {
   "codemirror_mode": {
    "name": "ipython",
    "version": 3
   },
   "file_extension": ".py",
   "mimetype": "text/x-python",
   "name": "python",
   "nbconvert_exporter": "python",
   "pygments_lexer": "ipython3",
   "version": "3.6.7"
  }
 },
 "nbformat": 4,
 "nbformat_minor": 2
}
